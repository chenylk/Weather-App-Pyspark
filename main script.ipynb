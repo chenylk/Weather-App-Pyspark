{
 "cells": [
  {
   "cell_type": "code",
   "execution_count": 80,
   "metadata": {},
   "outputs": [
    {
     "name": "stdout",
     "output_type": "stream",
     "text": [
      "Note: you may need to restart the kernel to use updated packages.\n"
     ]
    },
    {
     "name": "stderr",
     "output_type": "stream",
     "text": [
      "ERROR: Could not find a version that satisfies the requirement sqlite3 (from versions: none)\n",
      "ERROR: No matching distribution found for sqlite3\n"
     ]
    }
   ],
   "source": [
    "pip install sqlite3"
   ]
  },
  {
   "cell_type": "code",
   "execution_count": 140,
   "metadata": {},
   "outputs": [],
   "source": [
    "from pyspark.sql import SparkSession\n",
    "import os\n",
    "import sys\n",
    "from config import API_KEY\n",
    "from datetime import datetime, timedelta\n",
    "import requests\n",
    "from pyspark.sql.types import StructType, StructField, StringType, FloatType, TimestampType, DateType, DoubleType, IntegerType\n",
    "import pandas as pd\n",
    "from pyspark.sql import Row\n",
    "from pyspark.sql.window import Window\n",
    "from pyspark.sql.functions import dense_rank, col, rank, avg, round, count, countDistinct, udf\n",
    "import sqlite3"
   ]
  },
  {
   "cell_type": "code",
   "execution_count": 6,
   "metadata": {},
   "outputs": [
    {
     "name": "stdout",
     "output_type": "stream",
     "text": [
      "JAVA_HOME: None\n",
      "PATH: c:\\Users\\lucas\\anaconda3\\envs\\pyspark_env;C:\\Users\\lucas\\anaconda3\\envs\\PYSPARK_ENV;C:\\Users\\lucas\\anaconda3\\envs\\PYSPARK_ENV\\Library\\mingw-w64\\bin;C:\\Users\\lucas\\anaconda3\\envs\\PYSPARK_ENV\\Library\\usr\\bin;C:\\Users\\lucas\\anaconda3\\envs\\PYSPARK_ENV\\Library\\bin;C:\\Users\\lucas\\anaconda3\\envs\\PYSPARK_ENV\\Scripts;C:\\Users\\lucas\\anaconda3\\envs\\PYSPARK_ENV\\bin;C:\\Users\\lucas\\anaconda3\\condabin;C:\\Program Files\\NVIDIA GPU Computing Toolkit\\CUDA\\v11.8\\libnvvp;C:\\Program Files\\NVIDIA GPU Computing Toolkit\\CUDA\\v11.8\\bin;C:\\Program Files\\NVIDIA GPU Computing Toolkit\\CUDA\\v12.1\\bin;C:\\Program Files\\NVIDIA GPU Computing Toolkit\\CUDA\\v12.1\\libnvvp;C:\\Program Files\\NVIDIA GPU Computing Toolkit\\CUDA\\v12.6\\bin;C:\\Program Files\\NVIDIA GPU Computing Toolkit\\CUDA\\v12.6\\libnvvp;C:\\Program Files\\Rockwell Software\\RSCommon;C:\\Windows\\system32;C:\\Windows;C:\\Windows\\System32\\Wbem;C:\\Windows\\System32\\WindowsPowerShell\\v1.0;C:\\Windows\\System32\\OpenSSH;C:\\Program Files (x86)\\NVIDIA Corporation\\PhysX\\Common;C:\\Program Files\\NVIDIA Corporation\\NVIDIA NvDLISR;C:\\Program Files\\Git\\cmd;C:\\Program Files\\MongoDB\\Server\\4.4\\bin;C:\\Program Files\\dotnet;C:\\Program Files\\PuTTY;C:\\Program Files\\Amazon\\AWSCLIV2;C:\\Program Files\\Microsoft SQL Server\\Client SDK\\ODBC\\130\\Tools\\Binn;C:\\Program Files (x86)\\Microsoft SQL Server\\140\\Tools\\Binn;C:\\Program Files\\Microsoft SQL Server\\140\\Tools\\Binn;C:\\Program Files\\Microsoft SQL Server\\140\\DTS\\Binn;C:\\WINDOWS\\system32;C:\\WINDOWS;C:\\WINDOWS\\System32\\Wbem;C:\\WINDOWS\\System32\\WindowsPowerShell\\v1.0;C:\\WINDOWS\\System32\\OpenSSH;C:\\Program Files\\Docker\\Docker\\resources\\bin;C:\\Program Files\\MATLAB\\R2023a\\bin;C:\\Program Files\\Microsoft SQL Server\\150\\Tools\\Binn;C:\\Program Files\\Microsoft SQL Server\\Client SDK\\ODBC\\170\\Tools\\Binn;C:\\Program Files\\NVIDIA Corporation\\Nsight Compute 2023.1.1;C:\\Users\\lucas\\AppData\\Roaming\\TinyTeX\\bin\\win32;C:\\Program Files\\MySQL\\MySQL Shell 8.0\\bin;C:\\Users\\lucas\\AppData\\Local\\Microsoft\\WindowsApps;C:\\Users\\lucas\\AppData\\Local\\Programs\\Microsoft VS Code\\bin;C:\\Users\\lucas\\.dotnet\\tools;C:\\Users\\lucas\\AppData\\Local\\Programs\\MiKTeX\\miktex\\bin\\x64;C:\\Program Files\\NVIDIA GPU Computing Toolkit\\CUDA\\v11.8\\libnvvp;C:\\Program Files\\NVIDIA GPU Computing Toolkit\\CUDA\\v11.8\\bin;.\n",
      "JAVA_HOME: C:\\Program Files\\Java\\jdk-1.8\n"
     ]
    }
   ],
   "source": [
    "print(f\"JAVA_HOME: {os.environ.get('JAVA_HOME')}\")\n",
    "print(f\"PATH: {os.environ.get('PATH')}\")\n",
    "os.environ['JAVA_HOME'] = r'C:\\Program Files\\Java\\jdk-1.8'\n",
    "print(f\"JAVA_HOME: {os.environ.get('JAVA_HOME')}\")\n",
    "\n",
    "#os.environ[\"PYSPARK_PYTHON\"] = r\"C:\\Users\\lucas\\anaconda3\\python.exe\"\n",
    "#os.environ[\"PYSPARK_DRIVER_PYTHON\"] = r\"C:\\Users\\lucas\\anaconda3\\python.exe\""
   ]
  },
  {
   "cell_type": "code",
   "execution_count": 3,
   "metadata": {},
   "outputs": [],
   "source": [
    "import findspark\n",
    "findspark.init()"
   ]
  },
  {
   "cell_type": "code",
   "execution_count": 20,
   "metadata": {},
   "outputs": [],
   "source": [
    "spark.stop()"
   ]
  },
  {
   "cell_type": "code",
   "execution_count": 21,
   "metadata": {},
   "outputs": [],
   "source": [
    "spark = SparkSession.builder \\\n",
    "    .appName(\"weatherapp\") \\\n",
    "    .getOrCreate()\n",
    "    #.config(\"spark.driver.memory\", \"4g\") \\\n",
    "    #.config(\"spark.executor.memory\", \"4g\") \\\n",
    "    #.config(\"spark.python.worker.memory\", \"4g\") \\\n",
    "    #.config(\"spark.driver.maxResultSize\", \"4g\") \\\n",
    "    #.config(\"spark.pyspark.python\", r\"C:\\Users\\lucas\\anaconda3\\python.exe\") \\\n",
    "    #.config(\"spark.pyspark.driver.python\", r\"C:\\Users\\lucas\\anaconda3\\python.exe\") \\\n",
    "#spark.sparkContext.addFile(r\"C:\\Users\\lucas\\anaconda3\\python.exe\") "
   ]
  },
  {
   "cell_type": "code",
   "execution_count": null,
   "metadata": {},
   "outputs": [],
   "source": [
    "url = \"http://api.weatherapi.com/v1/current.json\"\n",
    "#http://api.weatherapi.com/v1/history.json\n",
    "api_key = API_KEY\n",
    "city = 'Philadelphia'\n",
    "end_date = datetime.now()\n",
    "start_date = datetime.now() - timedelta(days=90)\n",
    "start_date = start_date.strftime(\"%Y-%m-%d\")\n",
    "params = {\n",
    "    'key': api_key,\n",
    "    'q': city\n",
    "}\n",
    "\n",
    "response = requests.get(url,params=params)\n",
    "data = response.json()\n",
    "\n"
   ]
  },
  {
   "cell_type": "code",
   "execution_count": 36,
   "metadata": {},
   "outputs": [
    {
     "data": {
      "text/plain": [
       "{'last_updated_epoch': 1732400100,\n",
       " 'last_updated': '2024-11-23 17:15',\n",
       " 'temp_c': 10.3,\n",
       " 'temp_f': 50.5,\n",
       " 'is_day': 0,\n",
       " 'condition': {'text': 'Partly cloudy',\n",
       "  'icon': '//cdn.weatherapi.com/weather/64x64/night/116.png',\n",
       "  'code': 1003},\n",
       " 'wind_mph': 13.2,\n",
       " 'wind_kph': 21.2,\n",
       " 'wind_degree': 292,\n",
       " 'wind_dir': 'WNW',\n",
       " 'pressure_mb': 1008.0,\n",
       " 'pressure_in': 29.75,\n",
       " 'precip_mm': 0.0,\n",
       " 'precip_in': 0.0,\n",
       " 'humidity': 48,\n",
       " 'cloud': 50,\n",
       " 'feelslike_c': 7.6,\n",
       " 'feelslike_f': 45.8,\n",
       " 'windchill_c': 8.0,\n",
       " 'windchill_f': 46.4,\n",
       " 'heatindex_c': 10.7,\n",
       " 'heatindex_f': 51.2,\n",
       " 'dewpoint_c': 4.5,\n",
       " 'dewpoint_f': 40.1,\n",
       " 'vis_km': 16.0,\n",
       " 'vis_miles': 9.0,\n",
       " 'uv': 0.0,\n",
       " 'gust_mph': 17.9,\n",
       " 'gust_kph': 28.8}"
      ]
     },
     "execution_count": 36,
     "metadata": {},
     "output_type": "execute_result"
    }
   ],
   "source": [
    "data['current']"
   ]
  },
  {
   "cell_type": "code",
   "execution_count": null,
   "metadata": {},
   "outputs": [],
   "source": [
    "#history\n",
    "def loop_date(start_date,end_date):\n",
    "    date_list = []\n",
    "    while start_date <= end_date:\n",
    "        date_list.append(start_date.strftime(\"%Y-%m-%d\"))\n",
    "        start_date += timedelta(days=1)\n",
    "    return date_list\n",
    "\n",
    "def get_city_attr(cities,start_date,end_date):\n",
    "    url = \"http://api.weatherapi.com/v1/history.json\"\n",
    "    api_key = API_KEY\n",
    "    date_list = loop_date(start_date,end_date)\n",
    "    measure_metrics = ['avgtemp_f','maxwind_mph','totalprecip_in','condition']\n",
    "    spark_values_store = []\n",
    "    for city in cities:\n",
    "        for date in date_list:\n",
    "            params = {\n",
    "                'key': api_key,\n",
    "                'q': city,\n",
    "                'dt': date\n",
    "            }\n",
    "            response = requests.get(url,params=params)\n",
    "            data = response.json()\n",
    "            date_store = {'date':date, 'city':city}\n",
    "            for metric in measure_metrics:\n",
    "                date_store[metric] = data['forecast']['forecastday'][0]['day'][metric]\n",
    "            spark_values_store.append(date_store)\n",
    "    return spark_values_store\n"
   ]
  },
  {
   "cell_type": "code",
   "execution_count": 39,
   "metadata": {},
   "outputs": [],
   "source": [
    "def get_city_attr(cities,unit ='F'):\n",
    "    url = \"http://api.weatherapi.com/v1/current.json\"\n",
    "    api_key = API_KEY\n",
    "    measure_metrics = ['name','temp_f','humidity','condition']\n",
    "    spark_values_store = []\n",
    "    for city in cities:\n",
    "        params = {\n",
    "            'key': api_key,\n",
    "            'q': city\n",
    "        }\n",
    "        response = requests.get(url,params=params)\n",
    "        data = response.json()\n",
    "        data_store = {}\n",
    "        for metric in measure_metrics:\n",
    "            if metric == 'name':\n",
    "                data_store[metric] = data['location'][metric]\n",
    "                continue\n",
    "            if metric == 'condition':\n",
    "                data_store[metric] = data['current'][metric]['text']\n",
    "                continue\n",
    "            data_store[metric] = data['current'][metric]\n",
    "        if unit == 'C':\n",
    "            data_store['temp_c'] = (data_store['temp_f'] - 32) * (5/9)\n",
    "            del data_store['temp_f']\n",
    "        spark_values_store.append(data_store)\n",
    "    return spark_values_store\n"
   ]
  },
  {
   "cell_type": "code",
   "execution_count": 29,
   "metadata": {},
   "outputs": [],
   "source": [
    "cities = [\n",
    "    \"New York\", \"Los Angeles\", \"Chicago\", \"Houston\", \"Phoenix\",\n",
    "    \"Philadelphia\", \"San Antonio\", \"San Diego\", \"Dallas\", \"San Jose\",\n",
    "    \"London\", \"Paris\", \"Berlin\", \"Madrid\", \"Rome\",\n",
    "    \"Tokyo\", \"Beijing\", \"Mumbai\", \"Sydney\", \"Cape Town\",\n",
    "    \"Dubai\", \"Singapore\", \"Seoul\", \"Moscow\", \"Rio de Janeiro\",\n",
    "    \"Buenos Aires\", \"Cairo\", \"Bangkok\", \"Istanbul\", \"Toronto\",\n",
    "    \"Mexico City\", \"Jakarta\", \"Kuala Lumpur\", \"Lagos\", \"Nairobi\",\n",
    "    \"Johannesburg\", \"Melbourne\", \"Lima\", \"Bogotá\", \"Santiago\",\n",
    "    \"Amsterdam\", \"Brussels\", \"Warsaw\", \"Vienna\", \"Stockholm\",\n",
    "    \"Oslo\", \"Copenhagen\", \"Helsinki\", \"Prague\", \"Zurich\"\n",
    "]"
   ]
  },
  {
   "cell_type": "code",
   "execution_count": 12,
   "metadata": {},
   "outputs": [],
   "source": [
    "end_date = datetime.now()\n",
    "start_date = datetime.now() - timedelta(days=90)"
   ]
  },
  {
   "cell_type": "code",
   "execution_count": 13,
   "metadata": {},
   "outputs": [],
   "source": [
    "df_list = get_city_attr(cities,start_date,end_date)\n",
    "    "
   ]
  },
  {
   "cell_type": "code",
   "execution_count": 40,
   "metadata": {},
   "outputs": [],
   "source": [
    "weather_df = get_city_attr(cities)"
   ]
  },
  {
   "cell_type": "code",
   "execution_count": 15,
   "metadata": {},
   "outputs": [],
   "source": [
    "schema = StructType([\n",
    "    StructField('date', StringType(), True),\n",
    "    StructField('city', StringType(), True),\n",
    "    StructField('avgtemp_f', FloatType(), True),\n",
    "    StructField('maxwind_mph', FloatType(), True),\n",
    "    StructField('totalprecip_in', FloatType(), True)\n",
    "])"
   ]
  },
  {
   "cell_type": "code",
   "execution_count": null,
   "metadata": {},
   "outputs": [],
   "source": [
    "def clean_record(record):\n",
    "    return {\n",
    "        'date' : str(record['date']),\n",
    "        'city' : str(record['city']),\n",
    "        'avgtemp_f' : double(record['avgtemp_f']),\n",
    "        'maxwind_mph' : double(record['maxwind_mph']),\n",
    "        'totalprecip_in' : float(record['totalprecip_in'])\n",
    "    }"
   ]
  },
  {
   "cell_type": "code",
   "execution_count": 41,
   "metadata": {},
   "outputs": [],
   "source": [
    "weather_df = spark.createDataFrame(weather_df)"
   ]
  },
  {
   "cell_type": "code",
   "execution_count": null,
   "metadata": {},
   "outputs": [],
   "source": [
    "#find the city with the highest temperature\n",
    "window_spec = Window.partitionBy().orderBy(col('temp_f').desc())\n",
    "df_with_rank = weather_df.withColumn('rank',rank().over(window_spec))\n",
    "city_with_highest_temp = df_with_rank.filter(col('rank')==1).select('name').collect()[0][0]\n",
    "print(city_with_highest_temp)\n"
   ]
  },
  {
   "cell_type": "code",
   "execution_count": null,
   "metadata": {},
   "outputs": [],
   "source": [
    "#compare temperature of 2 cities\n",
    "def city_compare(city1,city2,df):\n",
    "    if df.filter(col('name') == city1).select('temp_f').collect()[0][0] == df.filter(col('name') == city2).select('temp_f').collect()[0][0]:\n",
    "        print(f'The temperatures of {city1} and {city2} are the same')\n",
    "    elif df.filter(col('name') == city1).select('temp_f').collect()[0][0] > df.filter(col('name') == city2).select('temp_f').collect()[0][0]:\n",
    "        diff_temp = df.filter(col('name') == city1).select('temp_f').collect()[0][0] - df.filter(col('name') == city2).select('temp_f').collect()[0][0]\n",
    "        print(f'The temperature of {city1} is greater than {city2} by {diff_temp} degrees Farenheit')\n",
    "    else:\n",
    "        diff_temp = df.filter(col('name') == city2).select('temp_f').collect()[0][0] - df.filter(col('name') == city1).select('temp_f').collect()[0][0]\n",
    "        print(f'The temperature of {city2} is greater than {city1} by {diff_temp} degrees Farenheit')"
   ]
  },
  {
   "cell_type": "code",
   "execution_count": 68,
   "metadata": {},
   "outputs": [
    {
     "name": "stdout",
     "output_type": "stream",
     "text": [
      "The temperature of Singapore is greater than Sydney by 8.400000000000006 degrees Farenheit\n"
     ]
    }
   ],
   "source": [
    "city_compare('Singapore','Sydney',weather_df)"
   ]
  },
  {
   "cell_type": "code",
   "execution_count": 62,
   "metadata": {},
   "outputs": [
    {
     "name": "stdout",
     "output_type": "stream",
     "text": [
      "+-------------+--------+--------------+------+----+\n",
      "|    condition|humidity|          name|temp_f|rank|\n",
      "+-------------+--------+--------------+------+----+\n",
      "|         Mist|      63|       Jakarta|  89.8|   1|\n",
      "|Partly cloudy|      70|     Singapore|  86.5|   2|\n",
      "|Partly cloudy|      66|       Bangkok|  86.4|   3|\n",
      "|Partly cloudy|      79|  Kuala Lumpur|  84.6|   4|\n",
      "|        Clear|      94|         Lagos|  79.3|   5|\n",
      "|        Sunny|      65|        Sydney|  78.1|   6|\n",
      "|        Sunny|      69|         Dubai|  77.4|   7|\n",
      "|Partly cloudy|      65|     Melbourne|  77.0|   8|\n",
      "|     Overcast|      44|        Mumbai|  75.4|   9|\n",
      "|     Overcast|      78|  Buenos Aires|  72.0|  10|\n",
      "|        Clear|      73|Rio De Janeiro|  72.0|  10|\n",
      "|Partly cloudy|      21|       Phoenix|  71.1|  12|\n",
      "|Partly Cloudy|      82|          Lima|  65.7|  13|\n",
      "|        Clear|      47|   San Antonio|  64.9|  14|\n",
      "|     Overcast|      64|       Houston|  64.4|  15|\n",
      "|Partly cloudy|      60|     San Diego|  63.0|  16|\n",
      "|        Clear|      17|   Mexico City|  62.8|  17|\n",
      "|Partly cloudy|      94|       Nairobi|  61.3|  18|\n",
      "|Partly cloudy|      68|   Los Angeles|  61.2|  19|\n",
      "|        Clear|      63|  Johannesburg|  61.2|  19|\n",
      "+-------------+--------+--------------+------+----+\n",
      "only showing top 20 rows\n",
      "\n"
     ]
    }
   ],
   "source": [
    "df_with_rank.show()"
   ]
  },
  {
   "cell_type": "code",
   "execution_count": 78,
   "metadata": {},
   "outputs": [],
   "source": [
    "def average_weather(cities,df):\n",
    "    filtered_df = df.filter(col('name').isin(cities))\n",
    "    avg_temp = filtered_df.agg(avg('temp_f').alias('avg_temp')).collect()[0]['avg_temp']\n",
    "    avg_humidity = filtered_df.agg(avg('humidity').alias('avg_humidity')).collect()[0]['avg_humidity']\n",
    "    print(f'The average temp of these cities is {avg_temp} and the average humidity of these cities is {avg_humidity}')"
   ]
  },
  {
   "cell_type": "code",
   "execution_count": 72,
   "metadata": {},
   "outputs": [],
   "source": [
    "cities_for_temp_analysis = [\n",
    "    \"New York\", \"Los Angeles\", \"Tokyo\", \"Cairo\", \"Moscow\",\n",
    "    \"Mumbai\", \"Sydney\", \"Cape Town\", \"Dubai\", \"Toronto\",\n",
    "    \"Mexico City\", \"Lagos\", \"Bangkok\", \"Istanbul\", \"Berlin\",\n",
    "    \"London\", \"Buenos Aires\", \"Jakarta\", \"Beijing\", \"Melbourne\"\n",
    "]"
   ]
  },
  {
   "cell_type": "code",
   "execution_count": 79,
   "metadata": {},
   "outputs": [
    {
     "name": "stdout",
     "output_type": "stream",
     "text": [
      "The average temp of these cities is 61.36500000000001 and the average humidity of these cities is 65.0\n"
     ]
    }
   ],
   "source": [
    "average_weather(cities_for_temp_analysis,weather_df)"
   ]
  },
  {
   "cell_type": "code",
   "execution_count": null,
   "metadata": {},
   "outputs": [],
   "source": [
    "#create sqlite database\n",
    "conn = sqlite3.connect('weather.db')"
   ]
  },
  {
   "cell_type": "code",
   "execution_count": 84,
   "metadata": {},
   "outputs": [
    {
     "data": {
      "text/plain": [
       "50"
      ]
     },
     "execution_count": 84,
     "metadata": {},
     "output_type": "execute_result"
    }
   ],
   "source": [
    "#create sqllite database\n",
    "pandas_df = weather_df.toPandas()\n",
    "pandas_df.to_sql(\"weather\",conn,if_exists='replace',index=True)"
   ]
  },
  {
   "cell_type": "code",
   "execution_count": 85,
   "metadata": {},
   "outputs": [],
   "source": [
    "#create sqllite database\n",
    "conn.close()"
   ]
  },
  {
   "cell_type": "code",
   "execution_count": 86,
   "metadata": {},
   "outputs": [],
   "source": [
    "conn = sqlite3.connect('weather.db')\n",
    "result = conn.execute('SELECT * FROM weather').fetchall()"
   ]
  },
  {
   "cell_type": "code",
   "execution_count": 88,
   "metadata": {},
   "outputs": [],
   "source": [
    "conn.close()"
   ]
  },
  {
   "cell_type": "code",
   "execution_count": 89,
   "metadata": {},
   "outputs": [
    {
     "name": "stdout",
     "output_type": "stream",
     "text": [
      "+-------------+--------+------------+------+\n",
      "|    condition|humidity|        name|temp_f|\n",
      "+-------------+--------+------------+------+\n",
      "|     Overcast|      41|    New York|  53.1|\n",
      "|Partly cloudy|      68| Los Angeles|  61.2|\n",
      "|     Overcast|      67|     Chicago|  42.1|\n",
      "|     Overcast|      64|     Houston|  64.4|\n",
      "|Partly cloudy|      21|     Phoenix|  71.1|\n",
      "|     Overcast|      61|Philadelphia|  52.0|\n",
      "|        Clear|      47| San Antonio|  64.9|\n",
      "|Partly cloudy|      60|   San Diego|  63.0|\n",
      "|Partly cloudy|      69|      Dallas|  48.9|\n",
      "|Partly cloudy|      80|    San Jose|  60.1|\n",
      "|Partly cloudy|      81|      London|  43.3|\n",
      "|     Overcast|      93|       Paris|  48.9|\n",
      "|   Light rain|      87|      Berlin|  48.2|\n",
      "|        Clear|      87|      Madrid|  41.7|\n",
      "|Partly cloudy|      94|        Rome|  52.2|\n",
      "|Partly cloudy|      54|       Tokyo|  53.6|\n",
      "|        Sunny|      21|     Beijing|  34.5|\n",
      "|     Overcast|      44|      Mumbai|  75.4|\n",
      "|        Sunny|      65|      Sydney|  78.1|\n",
      "|   Light rain|      82|   Cape Town|  57.9|\n",
      "+-------------+--------+------------+------+\n",
      "only showing top 20 rows\n",
      "\n"
     ]
    }
   ],
   "source": [
    "weather_df.show()"
   ]
  },
  {
   "cell_type": "code",
   "execution_count": 92,
   "metadata": {},
   "outputs": [],
   "source": [
    "agg_df = weather_df.groupby('condition').agg(\n",
    "    avg('humidity').alias('average_humidity'),\n",
    "    avg('temp_f').alias('average_temp')\n",
    ")"
   ]
  },
  {
   "cell_type": "code",
   "execution_count": 93,
   "metadata": {},
   "outputs": [
    {
     "name": "stdout",
     "output_type": "stream",
     "text": [
      "+-------------+------------------+------------------+\n",
      "|    condition|  average_humidity|      average_temp|\n",
      "+-------------+------------------+------------------+\n",
      "|     Overcast| 69.77777777777777| 54.93333333333333|\n",
      "|Partly cloudy|              73.0| 58.50555555555555|\n",
      "|        Clear| 70.45454545454545|57.354545454545466|\n",
      "|   Light rain| 89.71428571428571| 47.55714285714286|\n",
      "|        Sunny|51.666666666666664|63.333333333333336|\n",
      "|         Mist|              63.0|              89.8|\n",
      "|Partly Cloudy|              82.0|              65.7|\n",
      "+-------------+------------------+------------------+\n",
      "\n"
     ]
    }
   ],
   "source": [
    "agg_df.show()"
   ]
  },
  {
   "cell_type": "code",
   "execution_count": 95,
   "metadata": {},
   "outputs": [
    {
     "name": "stdout",
     "output_type": "stream",
     "text": [
      "+-------------+--------+------------+------+\n",
      "|    condition|humidity|        name|temp_f|\n",
      "+-------------+--------+------------+------+\n",
      "|     Overcast|      41|    New York|  53.1|\n",
      "|Partly cloudy|      68| Los Angeles|  61.2|\n",
      "|     Overcast|      67|     Chicago|  42.1|\n",
      "|     Overcast|      64|     Houston|  64.4|\n",
      "|Partly cloudy|      21|     Phoenix|  71.1|\n",
      "|     Overcast|      61|Philadelphia|  52.0|\n",
      "|        Clear|      47| San Antonio|  64.9|\n",
      "|Partly cloudy|      60|   San Diego|  63.0|\n",
      "|Partly cloudy|      69|      Dallas|  48.9|\n",
      "|Partly cloudy|      80|    San Jose|  60.1|\n",
      "|Partly cloudy|      81|      London|  43.3|\n",
      "|     Overcast|      93|       Paris|  48.9|\n",
      "|   Light rain|      87|      Berlin|  48.2|\n",
      "|        Clear|      87|      Madrid|  41.7|\n",
      "|Partly cloudy|      94|        Rome|  52.2|\n",
      "|Partly cloudy|      54|       Tokyo|  53.6|\n",
      "|        Sunny|      21|     Beijing|  34.5|\n",
      "|     Overcast|      44|      Mumbai|  75.4|\n",
      "|        Sunny|      65|      Sydney|  78.1|\n",
      "|   Light rain|      82|   Cape Town|  57.9|\n",
      "+-------------+--------+------------+------+\n",
      "only showing top 20 rows\n",
      "\n"
     ]
    }
   ],
   "source": [
    "weather_df.show()"
   ]
  },
  {
   "cell_type": "code",
   "execution_count": 96,
   "metadata": {},
   "outputs": [],
   "source": [
    "high_temp_df = weather_df.filter(weather_df['temp_f'] > 60)"
   ]
  },
  {
   "cell_type": "code",
   "execution_count": 97,
   "metadata": {},
   "outputs": [
    {
     "name": "stdout",
     "output_type": "stream",
     "text": [
      "+-------------+--------+--------------+------+\n",
      "|    condition|humidity|          name|temp_f|\n",
      "+-------------+--------+--------------+------+\n",
      "|Partly cloudy|      68|   Los Angeles|  61.2|\n",
      "|     Overcast|      64|       Houston|  64.4|\n",
      "|Partly cloudy|      21|       Phoenix|  71.1|\n",
      "|        Clear|      47|   San Antonio|  64.9|\n",
      "|Partly cloudy|      60|     San Diego|  63.0|\n",
      "|Partly cloudy|      80|      San Jose|  60.1|\n",
      "|     Overcast|      44|        Mumbai|  75.4|\n",
      "|        Sunny|      65|        Sydney|  78.1|\n",
      "|        Sunny|      69|         Dubai|  77.4|\n",
      "|Partly cloudy|      70|     Singapore|  86.5|\n",
      "|        Clear|      73|Rio De Janeiro|  72.0|\n",
      "|     Overcast|      78|  Buenos Aires|  72.0|\n",
      "|Partly cloudy|      66|       Bangkok|  86.4|\n",
      "|        Clear|      17|   Mexico City|  62.8|\n",
      "|         Mist|      63|       Jakarta|  89.8|\n",
      "|Partly cloudy|      79|  Kuala Lumpur|  84.6|\n",
      "|        Clear|      94|         Lagos|  79.3|\n",
      "|Partly cloudy|      94|       Nairobi|  61.3|\n",
      "|        Clear|      63|  Johannesburg|  61.2|\n",
      "|Partly cloudy|      65|     Melbourne|  77.0|\n",
      "+-------------+--------+--------------+------+\n",
      "only showing top 20 rows\n",
      "\n"
     ]
    }
   ],
   "source": [
    "high_temp_df.show()"
   ]
  },
  {
   "cell_type": "code",
   "execution_count": 98,
   "metadata": {},
   "outputs": [
    {
     "name": "stdout",
     "output_type": "stream",
     "text": [
      "+-------------+--------+\n",
      "|    condition|humidity|\n",
      "+-------------+--------+\n",
      "|     Overcast|      41|\n",
      "|Partly cloudy|      68|\n",
      "|     Overcast|      67|\n",
      "|     Overcast|      64|\n",
      "|Partly cloudy|      21|\n",
      "|     Overcast|      61|\n",
      "|        Clear|      47|\n",
      "|Partly cloudy|      60|\n",
      "|Partly cloudy|      69|\n",
      "|Partly cloudy|      80|\n",
      "|Partly cloudy|      81|\n",
      "|     Overcast|      93|\n",
      "|   Light rain|      87|\n",
      "|        Clear|      87|\n",
      "|Partly cloudy|      94|\n",
      "|Partly cloudy|      54|\n",
      "|        Sunny|      21|\n",
      "|     Overcast|      44|\n",
      "|        Sunny|      65|\n",
      "|   Light rain|      82|\n",
      "+-------------+--------+\n",
      "only showing top 20 rows\n",
      "\n"
     ]
    }
   ],
   "source": [
    "weather_df.select('condition','humidity').show()"
   ]
  },
  {
   "cell_type": "code",
   "execution_count": 101,
   "metadata": {},
   "outputs": [],
   "source": [
    "weather_df = weather_df.withColumnRenamed('temp_f','temperature')"
   ]
  },
  {
   "cell_type": "code",
   "execution_count": 107,
   "metadata": {},
   "outputs": [],
   "source": [
    "weather_df = weather_df.withColumn('temp_c',round((col('temperature')-32) * (5/9),2))"
   ]
  },
  {
   "cell_type": "code",
   "execution_count": null,
   "metadata": {},
   "outputs": [
    {
     "name": "stdout",
     "output_type": "stream",
     "text": [
      "+-------------+--------+------------+-----------+------+\n",
      "|    condition|humidity|        name|temperature|temp_c|\n",
      "+-------------+--------+------------+-----------+------+\n",
      "|     Overcast|      41|    New York|       53.1| 11.72|\n",
      "|Partly cloudy|      68| Los Angeles|       61.2| 16.22|\n",
      "|     Overcast|      67|     Chicago|       42.1|  5.61|\n",
      "|     Overcast|      64|     Houston|       64.4|  18.0|\n",
      "|Partly cloudy|      21|     Phoenix|       71.1| 21.72|\n",
      "|     Overcast|      61|Philadelphia|       52.0| 11.11|\n",
      "|        Clear|      47| San Antonio|       64.9| 18.28|\n",
      "|Partly cloudy|      60|   San Diego|       63.0| 17.22|\n",
      "|Partly cloudy|      69|      Dallas|       48.9|  9.39|\n",
      "|Partly cloudy|      80|    San Jose|       60.1| 15.61|\n",
      "|Partly cloudy|      81|      London|       43.3|  6.28|\n",
      "|     Overcast|      93|       Paris|       48.9|  9.39|\n",
      "|   Light rain|      87|      Berlin|       48.2|   9.0|\n",
      "|        Clear|      87|      Madrid|       41.7|  5.39|\n",
      "|Partly cloudy|      94|        Rome|       52.2| 11.22|\n",
      "|Partly cloudy|      54|       Tokyo|       53.6|  12.0|\n",
      "|        Sunny|      21|     Beijing|       34.5|  1.39|\n",
      "|     Overcast|      44|      Mumbai|       75.4| 24.11|\n",
      "|        Sunny|      65|      Sydney|       78.1| 25.61|\n",
      "|   Light rain|      82|   Cape Town|       57.9| 14.39|\n",
      "+-------------+--------+------------+-----------+------+\n",
      "only showing top 20 rows\n",
      "\n"
     ]
    }
   ],
   "source": [
    "weather_df.show()"
   ]
  },
  {
   "cell_type": "code",
   "execution_count": 113,
   "metadata": {},
   "outputs": [],
   "source": [
    "def get_city_attr2(cities,unit ='F'):\n",
    "    url = \"http://api.weatherapi.com/v1/current.json\"\n",
    "    api_key = API_KEY\n",
    "    measure_metrics = ['name','gust_mph','pressure_mb']\n",
    "    spark_values_store = []\n",
    "    for city in cities:\n",
    "        params = {\n",
    "            'key': api_key,\n",
    "            'q': city\n",
    "        }\n",
    "        response = requests.get(url,params=params)\n",
    "        data = response.json()\n",
    "        data_store = {}\n",
    "        for metric in measure_metrics:\n",
    "            if metric == 'name':\n",
    "                data_store[metric] = data['location'][metric]\n",
    "                continue\n",
    "            data_store[metric] = data['current'][metric]\n",
    "        if unit == 'C':\n",
    "            data_store['temp_c'] = (data_store['temp_f'] - 32) * (5/9)\n",
    "            del data_store['temp_f']\n",
    "        spark_values_store.append(data_store)\n",
    "    return spark_values_store\n"
   ]
  },
  {
   "cell_type": "code",
   "execution_count": 114,
   "metadata": {},
   "outputs": [],
   "source": [
    "weather_df2 = get_city_attr2(cities)"
   ]
  },
  {
   "cell_type": "code",
   "execution_count": 115,
   "metadata": {},
   "outputs": [],
   "source": [
    "weather_spark_df2 = spark.createDataFrame(weather_df2)"
   ]
  },
  {
   "cell_type": "code",
   "execution_count": 116,
   "metadata": {},
   "outputs": [
    {
     "name": "stdout",
     "output_type": "stream",
     "text": [
      "+--------+------------+-----------+\n",
      "|gust_mph|        name|pressure_mb|\n",
      "+--------+------------+-----------+\n",
      "|    17.7|    New York|     1019.0|\n",
      "|     6.7| Los Angeles|     1020.0|\n",
      "|    13.0|     Chicago|     1024.0|\n",
      "|     7.2|     Houston|     1025.0|\n",
      "|     5.6|     Phoenix|     1020.0|\n",
      "|    13.4|Philadelphia|     1021.0|\n",
      "|     5.7| San Antonio|     1025.0|\n",
      "|     6.7|   San Diego|     1020.0|\n",
      "|     6.6|      Dallas|     1027.0|\n",
      "|     2.3|    San Jose|     1021.0|\n",
      "|    15.5|      London|     1011.0|\n",
      "|    13.4|       Paris|     1019.0|\n",
      "|    13.2|      Berlin|     1023.0|\n",
      "|     4.7|      Madrid|     1025.0|\n",
      "|     9.4|        Rome|     1019.0|\n",
      "|    12.4|       Tokyo|     1016.0|\n",
      "|    17.6|     Beijing|     1018.0|\n",
      "|    16.5|      Mumbai|     1008.0|\n",
      "|    11.3|      Sydney|     1007.0|\n",
      "|    21.5|   Cape Town|     1016.0|\n",
      "+--------+------------+-----------+\n",
      "only showing top 20 rows\n",
      "\n"
     ]
    }
   ],
   "source": [
    "weather_spark_df2.show()"
   ]
  },
  {
   "cell_type": "code",
   "execution_count": 120,
   "metadata": {},
   "outputs": [],
   "source": [
    "weather_spark_df3 = weather_df.join(weather_spark_df2, weather_df['name'] == weather_spark_df2['name'], 'inner').select(weather_df.name,weather_df.condition,weather_df.humidity,weather_df.temperature\n",
    "                                                                                                                        ,weather_df.temp_c,weather_spark_df2.gust_mph,weather_spark_df2.pressure_mb)"
   ]
  },
  {
   "cell_type": "code",
   "execution_count": 121,
   "metadata": {},
   "outputs": [
    {
     "name": "stdout",
     "output_type": "stream",
     "text": [
      "+------------+-------------+--------+-----------+------+--------+-----------+\n",
      "|        name|    condition|humidity|temperature|temp_c|gust_mph|pressure_mb|\n",
      "+------------+-------------+--------+-----------+------+--------+-----------+\n",
      "|     Chicago|     Overcast|      67|       42.1|  5.61|    13.0|     1024.0|\n",
      "|    New York|     Overcast|      41|       53.1| 11.72|    17.7|     1019.0|\n",
      "| Los Angeles|Partly cloudy|      68|       61.2| 16.22|     6.7|     1020.0|\n",
      "|     Houston|     Overcast|      64|       64.4|  18.0|     7.2|     1025.0|\n",
      "|   San Diego|Partly cloudy|      60|       63.0| 17.22|     6.7|     1020.0|\n",
      "|     Phoenix|Partly cloudy|      21|       71.1| 21.72|     5.6|     1020.0|\n",
      "|Philadelphia|     Overcast|      61|       52.0| 11.11|    13.4|     1021.0|\n",
      "| San Antonio|        Clear|      47|       64.9| 18.28|     5.7|     1025.0|\n",
      "|      London|Partly cloudy|      81|       43.3|  6.28|    15.5|     1011.0|\n",
      "|      Dallas|Partly cloudy|      69|       48.9|  9.39|     6.6|     1027.0|\n",
      "|    San Jose|Partly cloudy|      80|       60.1| 15.61|     2.3|     1021.0|\n",
      "|       Paris|     Overcast|      93|       48.9|  9.39|    13.4|     1019.0|\n",
      "|      Berlin|   Light rain|      87|       48.2|   9.0|    13.2|     1023.0|\n",
      "|      Madrid|        Clear|      87|       41.7|  5.39|     4.7|     1025.0|\n",
      "|       Tokyo|Partly cloudy|      54|       53.6|  12.0|    12.4|     1016.0|\n",
      "|        Rome|Partly cloudy|      94|       52.2| 11.22|     9.4|     1019.0|\n",
      "|      Sydney|        Sunny|      65|       78.1| 25.61|    11.3|     1007.0|\n",
      "|   Cape Town|   Light rain|      82|       57.9| 14.39|    21.5|     1016.0|\n",
      "|     Beijing|        Sunny|      21|       34.5|  1.39|    17.6|     1018.0|\n",
      "|      Mumbai|     Overcast|      44|       75.4| 24.11|    16.5|     1008.0|\n",
      "+------------+-------------+--------+-----------+------+--------+-----------+\n",
      "only showing top 20 rows\n",
      "\n"
     ]
    }
   ],
   "source": [
    "weather_spark_df3.show()"
   ]
  },
  {
   "cell_type": "code",
   "execution_count": 124,
   "metadata": {},
   "outputs": [
    {
     "name": "stdout",
     "output_type": "stream",
     "text": [
      "+-------------+--------+\n",
      "|    condition|count(1)|\n",
      "+-------------+--------+\n",
      "|     Overcast|       9|\n",
      "|        Clear|      11|\n",
      "|   Light rain|       7|\n",
      "|         Mist|       1|\n",
      "|Partly Cloudy|       1|\n",
      "|Partly cloudy|      18|\n",
      "|        Sunny|       3|\n",
      "+-------------+--------+\n",
      "\n"
     ]
    }
   ],
   "source": [
    "weather_spark_df3.groupBy('condition').agg(count('*')).show()"
   ]
  },
  {
   "cell_type": "code",
   "execution_count": 125,
   "metadata": {},
   "outputs": [],
   "source": [
    "weather_spark_df3 = weather_spark_df3.drop('pressure_mb')"
   ]
  },
  {
   "cell_type": "code",
   "execution_count": 127,
   "metadata": {},
   "outputs": [],
   "source": [
    "weather_spark_df3 = weather_spark_df3.replace('Light rain','Drizzle','condition')"
   ]
  },
  {
   "cell_type": "code",
   "execution_count": 129,
   "metadata": {},
   "outputs": [
    {
     "name": "stdout",
     "output_type": "stream",
     "text": [
      "+----------+-------------+--------+-----------+------+--------+\n",
      "|      name|    condition|humidity|temperature|temp_c|gust_mph|\n",
      "+----------+-------------+--------+-----------+------+--------+\n",
      "|    Moscow|Partly cloudy|      80|       28.4|  -2.0|    16.1|\n",
      "|    Warsaw|        Clear|      86|       34.2|  1.22|     8.1|\n",
      "|   Beijing|        Sunny|      21|       34.5|  1.39|    17.6|\n",
      "|    Vienna|Partly cloudy|      93|       35.6|   2.0|    13.0|\n",
      "|    Prague|     Overcast|      93|       37.8|  3.22|     5.2|\n",
      "|    Madrid|        Clear|      87|       41.7|  5.39|     4.7|\n",
      "|   Chicago|     Overcast|      67|       42.1|  5.61|    13.0|\n",
      "|    London|Partly cloudy|      81|       43.3|  6.28|    15.5|\n",
      "|     Seoul|      Drizzle|      93|       43.5|  6.39|     5.3|\n",
      "|  Helsinki|      Drizzle|      93|       44.6|   7.0|    25.6|\n",
      "|   Toronto|      Drizzle|      87|       44.8|  7.11|    19.1|\n",
      "| Amsterdam|Partly cloudy|      87|       44.8|  7.11|    20.0|\n",
      "|      Oslo|      Drizzle|      93|       45.0|  7.22|    17.1|\n",
      "|  Brussels|        Clear|      87|       46.6|  8.11|    23.4|\n",
      "|  Istanbul|Partly cloudy|      66|       46.9|  8.28|    27.8|\n",
      "|    Berlin|      Drizzle|      87|       48.2|   9.0|    13.2|\n",
      "|Copenhagen|Partly cloudy|      87|       48.2|   9.0|    19.2|\n",
      "| Stockholm|     Overcast|      87|       48.7|  9.28|    20.4|\n",
      "|    Dallas|Partly cloudy|      69|       48.9|  9.39|     6.6|\n",
      "|     Paris|     Overcast|      93|       48.9|  9.39|    13.4|\n",
      "+----------+-------------+--------+-----------+------+--------+\n",
      "only showing top 20 rows\n",
      "\n"
     ]
    }
   ],
   "source": [
    "weather_spark_df3.orderBy('temperature').show()"
   ]
  },
  {
   "cell_type": "code",
   "execution_count": 138,
   "metadata": {},
   "outputs": [],
   "source": [
    "def temp_range(temp):\n",
    "    if temp < 50:\n",
    "        return 'Low'\n",
    "    elif (temp >= 50) & (temp < 70):\n",
    "        return 'Medium'\n",
    "    else:\n",
    "        return 'High'"
   ]
  },
  {
   "cell_type": "code",
   "execution_count": 141,
   "metadata": {},
   "outputs": [],
   "source": [
    "temp_range_udf = udf(temp_range,StringType())"
   ]
  },
  {
   "cell_type": "code",
   "execution_count": 142,
   "metadata": {},
   "outputs": [
    {
     "name": "stdout",
     "output_type": "stream",
     "text": [
      "+------------+-------------+--------+-----------+------+--------+----------+\n",
      "|        name|    condition|humidity|temperature|temp_c|gust_mph|temp_range|\n",
      "+------------+-------------+--------+-----------+------+--------+----------+\n",
      "|     Chicago|     Overcast|      67|       42.1|  5.61|    13.0|       Low|\n",
      "|    New York|     Overcast|      41|       53.1| 11.72|    17.7|    Medium|\n",
      "| Los Angeles|Partly cloudy|      68|       61.2| 16.22|     6.7|    Medium|\n",
      "|     Houston|     Overcast|      64|       64.4|  18.0|     7.2|    Medium|\n",
      "|   San Diego|Partly cloudy|      60|       63.0| 17.22|     6.7|    Medium|\n",
      "|     Phoenix|Partly cloudy|      21|       71.1| 21.72|     5.6|      High|\n",
      "|Philadelphia|     Overcast|      61|       52.0| 11.11|    13.4|    Medium|\n",
      "| San Antonio|        Clear|      47|       64.9| 18.28|     5.7|    Medium|\n",
      "|      London|Partly cloudy|      81|       43.3|  6.28|    15.5|       Low|\n",
      "|      Dallas|Partly cloudy|      69|       48.9|  9.39|     6.6|       Low|\n",
      "|    San Jose|Partly cloudy|      80|       60.1| 15.61|     2.3|    Medium|\n",
      "|       Paris|     Overcast|      93|       48.9|  9.39|    13.4|       Low|\n",
      "|      Berlin|      Drizzle|      87|       48.2|   9.0|    13.2|       Low|\n",
      "|      Madrid|        Clear|      87|       41.7|  5.39|     4.7|       Low|\n",
      "|       Tokyo|Partly cloudy|      54|       53.6|  12.0|    12.4|    Medium|\n",
      "|        Rome|Partly cloudy|      94|       52.2| 11.22|     9.4|    Medium|\n",
      "|      Sydney|        Sunny|      65|       78.1| 25.61|    11.3|      High|\n",
      "|   Cape Town|      Drizzle|      82|       57.9| 14.39|    21.5|    Medium|\n",
      "|     Beijing|        Sunny|      21|       34.5|  1.39|    17.6|       Low|\n",
      "|      Mumbai|     Overcast|      44|       75.4| 24.11|    16.5|      High|\n",
      "+------------+-------------+--------+-----------+------+--------+----------+\n",
      "only showing top 20 rows\n",
      "\n"
     ]
    }
   ],
   "source": [
    "weather_spark_df3.withColumn('temp_range',temp_range_udf(col('temperature'))).show()"
   ]
  },
  {
   "cell_type": "code",
   "execution_count": null,
   "metadata": {},
   "outputs": [],
   "source": [
    "weather_spark_df3.with"
   ]
  }
 ],
 "metadata": {
  "kernelspec": {
   "display_name": "pyspark_env",
   "language": "python",
   "name": "python3"
  },
  "language_info": {
   "codemirror_mode": {
    "name": "ipython",
    "version": 3
   },
   "file_extension": ".py",
   "mimetype": "text/x-python",
   "name": "python",
   "nbconvert_exporter": "python",
   "pygments_lexer": "ipython3",
   "version": "3.10.15"
  }
 },
 "nbformat": 4,
 "nbformat_minor": 2
}
