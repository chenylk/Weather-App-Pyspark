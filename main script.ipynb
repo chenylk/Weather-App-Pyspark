{
 "cells": [
  {
   "cell_type": "code",
   "execution_count": 60,
   "metadata": {},
   "outputs": [],
   "source": [
    "from pyspark.sql import SparkSession\n",
    "import os\n",
    "import sys\n",
    "from config import API_KEY\n",
    "from datetime import datetime, timedelta\n",
    "import requests\n",
    "from pyspark.sql.types import StructType, StructField, StringType, FloatType, TimestampType, DateType, DoubleType, IntegerType\n",
    "import pandas as pd\n",
    "from pyspark.sql import Row\n",
    "from pyspark.sql.window import Window\n",
    "from pyspark.sql.functions import dense_rank, col, rank, avg, round, count, countDistinct, udf, when, lower\n",
    "from pyspark.sql import functions as F\n",
    "import sqlite3"
   ]
  },
  {
   "cell_type": "code",
   "execution_count": 3,
   "metadata": {},
   "outputs": [
    {
     "name": "stdout",
     "output_type": "stream",
     "text": [
      "JAVA_HOME: C:\\Program Files\\Java\\jdk-1.8\n",
      "PATH: c:\\Users\\lucas\\anaconda3\\envs\\pyspark_env;C:\\Users\\lucas\\anaconda3\\envs\\pyspark_env;C:\\Users\\lucas\\anaconda3\\envs\\pyspark_env\\Library\\mingw-w64\\bin;C:\\Users\\lucas\\anaconda3\\envs\\pyspark_env\\Library\\usr\\bin;C:\\Users\\lucas\\anaconda3\\envs\\pyspark_env\\Library\\bin;C:\\Users\\lucas\\anaconda3\\envs\\pyspark_env\\Scripts;C:\\Users\\lucas\\anaconda3\\envs\\pyspark_env\\bin;C:\\Users\\lucas\\anaconda3\\condabin;C:\\Users\\lucas\\anaconda3;C:\\Program Files (x86)\\Common Files\\Oracle\\Java\\java8path;C:\\Program Files (x86)\\Common Files\\Oracle\\Java\\javapath;C:\\Program Files\\NVIDIA GPU Computing Toolkit\\CUDA\\v11.8\\libnvvp;C:\\Program Files\\NVIDIA GPU Computing Toolkit\\CUDA\\v11.8\\bin;C:\\Program Files\\NVIDIA GPU Computing Toolkit\\CUDA\\v12.1\\bin;C:\\Program Files\\NVIDIA GPU Computing Toolkit\\CUDA\\v12.1\\libnvvp;C:\\Program Files\\NVIDIA GPU Computing Toolkit\\CUDA\\v12.6\\bin;C:\\Program Files\\NVIDIA GPU Computing Toolkit\\CUDA\\v12.6\\libnvvp;C:\\Program Files\\Rockwell Software\\RSCommon;C:\\Windows\\system32;C:\\Windows;C:\\Windows\\System32\\Wbem;C:\\Windows\\System32\\WindowsPowerShell\\v1.0;C:\\Windows\\System32\\OpenSSH;C:\\Program Files (x86)\\NVIDIA Corporation\\PhysX\\Common;C:\\Program Files\\NVIDIA Corporation\\NVIDIA NvDLISR;C:\\Program Files\\Git\\cmd;C:\\Program Files\\MongoDB\\Server\\4.4\\bin;C:\\Program Files\\dotnet;C:\\Program Files\\PuTTY;C:\\Program Files\\Amazon\\AWSCLIV2;C:\\Program Files\\Microsoft SQL Server\\Client SDK\\ODBC\\130\\Tools\\Binn;C:\\Program Files (x86)\\Microsoft SQL Server\\140\\Tools\\Binn;C:\\Program Files\\Microsoft SQL Server\\140\\Tools\\Binn;C:\\Program Files\\Microsoft SQL Server\\140\\DTS\\Binn;C:\\WINDOWS\\system32;C:\\WINDOWS;C:\\WINDOWS\\System32\\Wbem;C:\\WINDOWS\\System32\\WindowsPowerShell\\v1.0;C:\\WINDOWS\\System32\\OpenSSH;C:\\Program Files\\Docker\\Docker\\resources\\bin;C:\\Program Files\\MATLAB\\R2023a\\bin;C:\\Program Files\\Microsoft SQL Server\\150\\Tools\\Binn;C:\\Program Files\\Microsoft SQL Server\\Client SDK\\ODBC\\170\\Tools\\Binn;C:\\Program Files\\NVIDIA Corporation\\Nsight Compute 2023.1.1;C:\\Program Files\\Java\\jdk-1.8\\bin;C:\\Users\\lucas\\AppData\\Roaming\\TinyTeX\\bin\\win32;C:\\Program Files\\MySQL\\MySQL Shell 8.0\\bin;C:\\Users\\lucas\\AppData\\Local\\Microsoft\\WindowsApps;C:\\Users\\lucas\\AppData\\Local\\Programs\\Microsoft VS Code\\bin;C:\\Users\\lucas\\.dotnet\\tools;C:\\Users\\lucas\\AppData\\Local\\Programs\\MiKTeX\\miktex\\bin\\x64;C:\\Program Files\\NVIDIA GPU Computing Toolkit\\CUDA\\v11.8\\libnvvp;C:\\Program Files\\NVIDIA GPU Computing Toolkit\\CUDA\\v11.8\\bin;.\n",
      "JAVA_HOME: C:\\Program Files\\Java\\jdk-1.8\n"
     ]
    }
   ],
   "source": [
    "print(f\"JAVA_HOME: {os.environ.get('JAVA_HOME')}\")\n",
    "print(f\"PATH: {os.environ.get('PATH')}\")\n",
    "os.environ['JAVA_HOME'] = r'C:\\Program Files\\Java\\jdk-1.8'\n",
    "print(f\"JAVA_HOME: {os.environ.get('JAVA_HOME')}\")\n",
    "\n",
    "#os.environ[\"PYSPARK_PYTHON\"] = r\"C:\\Users\\lucas\\anaconda3\\python.exe\"\n",
    "#os.environ[\"PYSPARK_DRIVER_PYTHON\"] = r\"C:\\Users\\lucas\\anaconda3\\python.exe\""
   ]
  },
  {
   "cell_type": "code",
   "execution_count": 3,
   "metadata": {},
   "outputs": [],
   "source": [
    "import findspark\n",
    "findspark.init()"
   ]
  },
  {
   "cell_type": "code",
   "execution_count": 20,
   "metadata": {},
   "outputs": [],
   "source": [
    "spark.stop()"
   ]
  },
  {
   "cell_type": "code",
   "execution_count": 4,
   "metadata": {},
   "outputs": [],
   "source": [
    "spark = SparkSession.builder \\\n",
    "    .appName(\"weatherapp\") \\\n",
    "    .getOrCreate()\n",
    "    #.config(\"spark.driver.memory\", \"4g\") \\\n",
    "    #.config(\"spark.executor.memory\", \"4g\") \\\n",
    "    #.config(\"spark.python.worker.memory\", \"4g\") \\\n",
    "    #.config(\"spark.driver.maxResultSize\", \"4g\") \\\n",
    "    #.config(\"spark.pyspark.python\", r\"C:\\Users\\lucas\\anaconda3\\python.exe\") \\\n",
    "    #.config(\"spark.pyspark.driver.python\", r\"C:\\Users\\lucas\\anaconda3\\python.exe\") \\\n",
    "#spark.sparkContext.addFile(r\"C:\\Users\\lucas\\anaconda3\\python.exe\") "
   ]
  },
  {
   "cell_type": "code",
   "execution_count": null,
   "metadata": {},
   "outputs": [],
   "source": [
    "url = \"http://api.weatherapi.com/v1/current.json\"\n",
    "#http://api.weatherapi.com/v1/history.json\n",
    "api_key = API_KEY\n",
    "city = 'Philadelphia'\n",
    "end_date = datetime.now()\n",
    "start_date = datetime.now() - timedelta(days=90)\n",
    "start_date = start_date.strftime(\"%Y-%m-%d\")\n",
    "params = {\n",
    "    'key': api_key,\n",
    "    'q': city\n",
    "}\n",
    "\n",
    "response = requests.get(url,params=params)\n",
    "data = response.json()\n",
    "\n"
   ]
  },
  {
   "cell_type": "code",
   "execution_count": 36,
   "metadata": {},
   "outputs": [
    {
     "data": {
      "text/plain": [
       "{'last_updated_epoch': 1732400100,\n",
       " 'last_updated': '2024-11-23 17:15',\n",
       " 'temp_c': 10.3,\n",
       " 'temp_f': 50.5,\n",
       " 'is_day': 0,\n",
       " 'condition': {'text': 'Partly cloudy',\n",
       "  'icon': '//cdn.weatherapi.com/weather/64x64/night/116.png',\n",
       "  'code': 1003},\n",
       " 'wind_mph': 13.2,\n",
       " 'wind_kph': 21.2,\n",
       " 'wind_degree': 292,\n",
       " 'wind_dir': 'WNW',\n",
       " 'pressure_mb': 1008.0,\n",
       " 'pressure_in': 29.75,\n",
       " 'precip_mm': 0.0,\n",
       " 'precip_in': 0.0,\n",
       " 'humidity': 48,\n",
       " 'cloud': 50,\n",
       " 'feelslike_c': 7.6,\n",
       " 'feelslike_f': 45.8,\n",
       " 'windchill_c': 8.0,\n",
       " 'windchill_f': 46.4,\n",
       " 'heatindex_c': 10.7,\n",
       " 'heatindex_f': 51.2,\n",
       " 'dewpoint_c': 4.5,\n",
       " 'dewpoint_f': 40.1,\n",
       " 'vis_km': 16.0,\n",
       " 'vis_miles': 9.0,\n",
       " 'uv': 0.0,\n",
       " 'gust_mph': 17.9,\n",
       " 'gust_kph': 28.8}"
      ]
     },
     "execution_count": 36,
     "metadata": {},
     "output_type": "execute_result"
    }
   ],
   "source": [
    "data['current']"
   ]
  },
  {
   "cell_type": "code",
   "execution_count": null,
   "metadata": {},
   "outputs": [],
   "source": [
    "#history\n",
    "def loop_date(start_date,end_date):\n",
    "    date_list = []\n",
    "    while start_date <= end_date:\n",
    "        date_list.append(start_date.strftime(\"%Y-%m-%d\"))\n",
    "        start_date += timedelta(days=1)\n",
    "    return date_list\n",
    "\n",
    "def get_city_attr(cities,start_date,end_date):\n",
    "    url = \"http://api.weatherapi.com/v1/history.json\"\n",
    "    api_key = API_KEY\n",
    "    date_list = loop_date(start_date,end_date)\n",
    "    measure_metrics = ['avgtemp_f','maxwind_mph','totalprecip_in','condition']\n",
    "    spark_values_store = []\n",
    "    for city in cities:\n",
    "        for date in date_list:\n",
    "            params = {\n",
    "                'key': api_key,\n",
    "                'q': city,\n",
    "                'dt': date\n",
    "            }\n",
    "            response = requests.get(url,params=params)\n",
    "            data = response.json()\n",
    "            date_store = {'date':date, 'city':city}\n",
    "            for metric in measure_metrics:\n",
    "                date_store[metric] = data['forecast']['forecastday'][0]['day'][metric]\n",
    "            spark_values_store.append(date_store)\n",
    "    return spark_values_store\n"
   ]
  },
  {
   "cell_type": "code",
   "execution_count": 5,
   "metadata": {},
   "outputs": [],
   "source": [
    "def get_city_attr(cities,unit ='F'):\n",
    "    url = \"http://api.weatherapi.com/v1/current.json\"\n",
    "    api_key = API_KEY\n",
    "    measure_metrics = ['name','temp_f','humidity','condition']\n",
    "    spark_values_store = []\n",
    "    for city in cities:\n",
    "        params = {\n",
    "            'key': api_key,\n",
    "            'q': city\n",
    "        }\n",
    "        response = requests.get(url,params=params)\n",
    "        data = response.json()\n",
    "        data_store = {}\n",
    "        for metric in measure_metrics:\n",
    "            if metric == 'name':\n",
    "                data_store[metric] = data['location'][metric]\n",
    "                continue\n",
    "            if metric == 'condition':\n",
    "                data_store[metric] = data['current'][metric]['text']\n",
    "                continue\n",
    "            data_store[metric] = data['current'][metric]\n",
    "        if unit == 'C':\n",
    "            data_store['temp_c'] = (data_store['temp_f'] - 32) * (5/9)\n",
    "            del data_store['temp_f']\n",
    "        spark_values_store.append(data_store)\n",
    "    return spark_values_store\n"
   ]
  },
  {
   "cell_type": "code",
   "execution_count": 6,
   "metadata": {},
   "outputs": [],
   "source": [
    "cities = [\n",
    "    \"New York\", \"Los Angeles\", \"Chicago\", \"Houston\", \"Phoenix\",\n",
    "    \"Philadelphia\", \"San Antonio\", \"San Diego\", \"Dallas\", \"San Jose\",\n",
    "    \"London\", \"Paris\", \"Berlin\", \"Madrid\", \"Rome\",\n",
    "    \"Tokyo\", \"Beijing\", \"Mumbai\", \"Sydney\", \"Cape Town\",\n",
    "    \"Dubai\", \"Singapore\", \"Seoul\", \"Moscow\", \"Rio de Janeiro\",\n",
    "    \"Buenos Aires\", \"Cairo\", \"Bangkok\", \"Istanbul\", \"Toronto\",\n",
    "    \"Mexico City\", \"Jakarta\", \"Kuala Lumpur\", \"Lagos\", \"Nairobi\",\n",
    "    \"Johannesburg\", \"Melbourne\", \"Lima\", \"Bogotá\", \"Santiago\",\n",
    "    \"Amsterdam\", \"Brussels\", \"Warsaw\", \"Vienna\", \"Stockholm\",\n",
    "    \"Oslo\", \"Copenhagen\", \"Helsinki\", \"Prague\", \"Zurich\"\n",
    "]"
   ]
  },
  {
   "cell_type": "code",
   "execution_count": 12,
   "metadata": {},
   "outputs": [],
   "source": [
    "end_date = datetime.now()\n",
    "start_date = datetime.now() - timedelta(days=90)"
   ]
  },
  {
   "cell_type": "code",
   "execution_count": 13,
   "metadata": {},
   "outputs": [],
   "source": [
    "df_list = get_city_attr(cities,start_date,end_date)\n",
    "    "
   ]
  },
  {
   "cell_type": "code",
   "execution_count": 7,
   "metadata": {},
   "outputs": [],
   "source": [
    "weather_df = get_city_attr(cities)"
   ]
  },
  {
   "cell_type": "code",
   "execution_count": 15,
   "metadata": {},
   "outputs": [],
   "source": [
    "schema = StructType([\n",
    "    StructField('date', StringType(), True),\n",
    "    StructField('city', StringType(), True),\n",
    "    StructField('avgtemp_f', FloatType(), True),\n",
    "    StructField('maxwind_mph', FloatType(), True),\n",
    "    StructField('totalprecip_in', FloatType(), True)\n",
    "])"
   ]
  },
  {
   "cell_type": "code",
   "execution_count": null,
   "metadata": {},
   "outputs": [],
   "source": [
    "def clean_record(record):\n",
    "    return {\n",
    "        'date' : str(record['date']),\n",
    "        'city' : str(record['city']),\n",
    "        'avgtemp_f' : double(record['avgtemp_f']),\n",
    "        'maxwind_mph' : double(record['maxwind_mph']),\n",
    "        'totalprecip_in' : float(record['totalprecip_in'])\n",
    "    }"
   ]
  },
  {
   "cell_type": "code",
   "execution_count": 8,
   "metadata": {},
   "outputs": [],
   "source": [
    "weather_df = spark.createDataFrame(weather_df)"
   ]
  },
  {
   "cell_type": "code",
   "execution_count": 24,
   "metadata": {},
   "outputs": [
    {
     "name": "stdout",
     "output_type": "stream",
     "text": [
      "Lagos\n"
     ]
    }
   ],
   "source": [
    "#find the city with the highest temperature\n",
    "window_spec = Window.partitionBy().orderBy(col('temp_f').desc())\n",
    "df_with_rank = weather_df.withColumn('rank',rank().over(window_spec))\n",
    "city_with_highest_temp = df_with_rank.filter(col('rank')==1).select('name').collect()[0][0]\n",
    "print(city_with_highest_temp)\n"
   ]
  },
  {
   "cell_type": "code",
   "execution_count": 25,
   "metadata": {},
   "outputs": [],
   "source": [
    "#compare temperature of 2 cities\n",
    "def city_compare(city1,city2,df):\n",
    "    if df.filter(col('name') == city1).select('temp_f').collect()[0][0] == df.filter(col('name') == city2).select('temp_f').collect()[0][0]:\n",
    "        print(f'The temperatures of {city1} and {city2} are the same')\n",
    "    elif df.filter(col('name') == city1).select('temp_f').collect()[0][0] > df.filter(col('name') == city2).select('temp_f').collect()[0][0]:\n",
    "        diff_temp = df.filter(col('name') == city1).select('temp_f').collect()[0][0] - df.filter(col('name') == city2).select('temp_f').collect()[0][0]\n",
    "        print(f'The temperature of {city1} is greater than {city2} by {diff_temp} degrees Farenheit')\n",
    "    else:\n",
    "        diff_temp = df.filter(col('name') == city2).select('temp_f').collect()[0][0] - df.filter(col('name') == city1).select('temp_f').collect()[0][0]\n",
    "        print(f'The temperature of {city2} is greater than {city1} by {diff_temp} degrees Farenheit')"
   ]
  },
  {
   "cell_type": "code",
   "execution_count": 26,
   "metadata": {},
   "outputs": [
    {
     "name": "stdout",
     "output_type": "stream",
     "text": [
      "The temperature of Singapore is greater than Sydney by 12.399999999999991 degrees Farenheit\n"
     ]
    }
   ],
   "source": [
    "city_compare('Singapore','Sydney',weather_df)"
   ]
  },
  {
   "cell_type": "code",
   "execution_count": 27,
   "metadata": {},
   "outputs": [
    {
     "name": "stdout",
     "output_type": "stream",
     "text": [
      "+------------------+--------+--------------+------+----+\n",
      "|         condition|humidity|          name|temp_f|rank|\n",
      "+------------------+--------+--------------+------+----+\n",
      "|             Sunny|      52|         Lagos|  85.0|   1|\n",
      "|Patchy rain nearby|      64|       Jakarta|  84.4|   2|\n",
      "|          Overcast|      54|        Mumbai|  81.3|   3|\n",
      "|     Partly cloudy|      79|     Singapore|  80.8|   4|\n",
      "|     Partly cloudy|      79|Rio De Janeiro|  80.6|   5|\n",
      "|     Partly cloudy|      89|  Kuala Lumpur|  80.6|   5|\n",
      "|             Clear|      65|       Bangkok|  79.0|   7|\n",
      "|             Clear|      25|  Johannesburg|  75.6|   8|\n",
      "|     Partly cloudy|      47|         Dubai|  75.2|   9|\n",
      "|             Sunny|      33|      Santiago|  70.2|  10|\n",
      "|     Partly Cloudy|      79|          Lima|  69.9|  11|\n",
      "|             Clear|      83|        Sydney|  68.4|  12|\n",
      "|     Partly cloudy|      88|  Buenos Aires|  68.0|  13|\n",
      "|     Partly cloudy|      68|       Nairobi|  68.0|  13|\n",
      "|     Partly cloudy|      60|   San Antonio|  67.3|  15|\n",
      "|     Partly cloudy|      37|     San Diego|  66.9|  16|\n",
      "|     Partly cloudy|      56|        Bogotá|  66.7|  17|\n",
      "|     Partly cloudy|      60|         Cairo|  66.7|  17|\n",
      "|     Partly cloudy|      73|     Cape Town|  66.7|  17|\n",
      "|             Sunny|      32|   Mexico City|  64.9|  20|\n",
      "+------------------+--------+--------------+------+----+\n",
      "only showing top 20 rows\n",
      "\n"
     ]
    }
   ],
   "source": [
    "df_with_rank.show()"
   ]
  },
  {
   "cell_type": "code",
   "execution_count": 28,
   "metadata": {},
   "outputs": [],
   "source": [
    "def average_weather(cities,df):\n",
    "    filtered_df = df.filter(col('name').isin(cities))\n",
    "    avg_temp = filtered_df.agg(avg('temp_f').alias('avg_temp')).collect()[0]['avg_temp']\n",
    "    avg_humidity = filtered_df.agg(avg('humidity').alias('avg_humidity')).collect()[0]['avg_humidity']\n",
    "    print(f'The average temp of these cities is {avg_temp} and the average humidity of these cities is {avg_humidity}')"
   ]
  },
  {
   "cell_type": "code",
   "execution_count": 29,
   "metadata": {},
   "outputs": [],
   "source": [
    "cities_for_temp_analysis = [\n",
    "    \"New York\", \"Los Angeles\", \"Tokyo\", \"Cairo\", \"Moscow\",\n",
    "    \"Mumbai\", \"Sydney\", \"Cape Town\", \"Dubai\", \"Toronto\",\n",
    "    \"Mexico City\", \"Lagos\", \"Bangkok\", \"Istanbul\", \"Berlin\",\n",
    "    \"London\", \"Buenos Aires\", \"Jakarta\", \"Beijing\", \"Melbourne\"\n",
    "]"
   ]
  },
  {
   "cell_type": "code",
   "execution_count": 30,
   "metadata": {},
   "outputs": [
    {
     "name": "stdout",
     "output_type": "stream",
     "text": [
      "The average temp of these cities is 59.84000000000001 and the average humidity of these cities is 64.15\n"
     ]
    }
   ],
   "source": [
    "average_weather(cities_for_temp_analysis,weather_df)"
   ]
  },
  {
   "cell_type": "code",
   "execution_count": null,
   "metadata": {},
   "outputs": [],
   "source": [
    "#create sqlite database\n",
    "conn = sqlite3.connect('weather.db')"
   ]
  },
  {
   "cell_type": "code",
   "execution_count": 84,
   "metadata": {},
   "outputs": [
    {
     "data": {
      "text/plain": [
       "50"
      ]
     },
     "execution_count": 84,
     "metadata": {},
     "output_type": "execute_result"
    }
   ],
   "source": [
    "#create sqllite database\n",
    "pandas_df = weather_df.toPandas()\n",
    "pandas_df.to_sql(\"weather\",conn,if_exists='replace',index=True)"
   ]
  },
  {
   "cell_type": "code",
   "execution_count": 85,
   "metadata": {},
   "outputs": [],
   "source": [
    "#create sqllite database\n",
    "conn.close()"
   ]
  },
  {
   "cell_type": "code",
   "execution_count": 86,
   "metadata": {},
   "outputs": [],
   "source": [
    "conn = sqlite3.connect('weather.db')\n",
    "result = conn.execute('SELECT * FROM weather').fetchall()"
   ]
  },
  {
   "cell_type": "code",
   "execution_count": 88,
   "metadata": {},
   "outputs": [],
   "source": [
    "conn.close()"
   ]
  },
  {
   "cell_type": "code",
   "execution_count": 89,
   "metadata": {},
   "outputs": [
    {
     "name": "stdout",
     "output_type": "stream",
     "text": [
      "+-------------+--------+------------+------+\n",
      "|    condition|humidity|        name|temp_f|\n",
      "+-------------+--------+------------+------+\n",
      "|     Overcast|      41|    New York|  53.1|\n",
      "|Partly cloudy|      68| Los Angeles|  61.2|\n",
      "|     Overcast|      67|     Chicago|  42.1|\n",
      "|     Overcast|      64|     Houston|  64.4|\n",
      "|Partly cloudy|      21|     Phoenix|  71.1|\n",
      "|     Overcast|      61|Philadelphia|  52.0|\n",
      "|        Clear|      47| San Antonio|  64.9|\n",
      "|Partly cloudy|      60|   San Diego|  63.0|\n",
      "|Partly cloudy|      69|      Dallas|  48.9|\n",
      "|Partly cloudy|      80|    San Jose|  60.1|\n",
      "|Partly cloudy|      81|      London|  43.3|\n",
      "|     Overcast|      93|       Paris|  48.9|\n",
      "|   Light rain|      87|      Berlin|  48.2|\n",
      "|        Clear|      87|      Madrid|  41.7|\n",
      "|Partly cloudy|      94|        Rome|  52.2|\n",
      "|Partly cloudy|      54|       Tokyo|  53.6|\n",
      "|        Sunny|      21|     Beijing|  34.5|\n",
      "|     Overcast|      44|      Mumbai|  75.4|\n",
      "|        Sunny|      65|      Sydney|  78.1|\n",
      "|   Light rain|      82|   Cape Town|  57.9|\n",
      "+-------------+--------+------------+------+\n",
      "only showing top 20 rows\n",
      "\n"
     ]
    }
   ],
   "source": [
    "weather_df.show()"
   ]
  },
  {
   "cell_type": "code",
   "execution_count": 31,
   "metadata": {},
   "outputs": [],
   "source": [
    "agg_df = weather_df.groupby('condition').agg(\n",
    "    avg('humidity').alias('average_humidity'),\n",
    "    avg('temp_f').alias('average_temp')\n",
    ")"
   ]
  },
  {
   "cell_type": "code",
   "execution_count": 32,
   "metadata": {},
   "outputs": [
    {
     "name": "stdout",
     "output_type": "stream",
     "text": [
      "+------------------+------------------+------------------+\n",
      "|         condition|  average_humidity|      average_temp|\n",
      "+------------------+------------------+------------------+\n",
      "|     Partly cloudy|  66.9047619047619| 59.71904761904763|\n",
      "|             Sunny|40.285714285714285| 61.99999999999999|\n",
      "|        Light rain|              90.0|46.300000000000004|\n",
      "|             Clear|              69.0| 53.28333333333333|\n",
      "|          Overcast| 77.66666666666667| 49.26666666666667|\n",
      "|              Mist|              96.5|              38.5|\n",
      "|Patchy rain nearby|              64.0|              84.4|\n",
      "|     Partly Cloudy|              79.0|              69.9|\n",
      "+------------------+------------------+------------------+\n",
      "\n"
     ]
    }
   ],
   "source": [
    "agg_df.show()"
   ]
  },
  {
   "cell_type": "code",
   "execution_count": 33,
   "metadata": {},
   "outputs": [],
   "source": [
    "high_temp_df = weather_df.filter(weather_df['temp_f'] > 60)"
   ]
  },
  {
   "cell_type": "code",
   "execution_count": 34,
   "metadata": {},
   "outputs": [
    {
     "name": "stdout",
     "output_type": "stream",
     "text": [
      "+------------------+--------+--------------+------+\n",
      "|         condition|humidity|          name|temp_f|\n",
      "+------------------+--------+--------------+------+\n",
      "|             Sunny|      46|   Los Angeles|  61.0|\n",
      "|             Sunny|      37|       Houston|  64.8|\n",
      "|     Partly cloudy|      19|       Phoenix|  64.0|\n",
      "|     Partly cloudy|      60|   San Antonio|  67.3|\n",
      "|     Partly cloudy|      37|     San Diego|  66.9|\n",
      "|          Overcast|      54|        Mumbai|  81.3|\n",
      "|             Clear|      83|        Sydney|  68.4|\n",
      "|     Partly cloudy|      73|     Cape Town|  66.7|\n",
      "|     Partly cloudy|      47|         Dubai|  75.2|\n",
      "|     Partly cloudy|      79|     Singapore|  80.8|\n",
      "|     Partly cloudy|      79|Rio De Janeiro|  80.6|\n",
      "|     Partly cloudy|      88|  Buenos Aires|  68.0|\n",
      "|     Partly cloudy|      60|         Cairo|  66.7|\n",
      "|             Clear|      65|       Bangkok|  79.0|\n",
      "|             Sunny|      32|   Mexico City|  64.9|\n",
      "|Patchy rain nearby|      64|       Jakarta|  84.4|\n",
      "|     Partly cloudy|      89|  Kuala Lumpur|  80.6|\n",
      "|             Sunny|      52|         Lagos|  85.0|\n",
      "|     Partly cloudy|      68|       Nairobi|  68.0|\n",
      "|             Clear|      25|  Johannesburg|  75.6|\n",
      "+------------------+--------+--------------+------+\n",
      "only showing top 20 rows\n",
      "\n"
     ]
    }
   ],
   "source": [
    "high_temp_df.show()"
   ]
  },
  {
   "cell_type": "code",
   "execution_count": 98,
   "metadata": {},
   "outputs": [
    {
     "name": "stdout",
     "output_type": "stream",
     "text": [
      "+-------------+--------+\n",
      "|    condition|humidity|\n",
      "+-------------+--------+\n",
      "|     Overcast|      41|\n",
      "|Partly cloudy|      68|\n",
      "|     Overcast|      67|\n",
      "|     Overcast|      64|\n",
      "|Partly cloudy|      21|\n",
      "|     Overcast|      61|\n",
      "|        Clear|      47|\n",
      "|Partly cloudy|      60|\n",
      "|Partly cloudy|      69|\n",
      "|Partly cloudy|      80|\n",
      "|Partly cloudy|      81|\n",
      "|     Overcast|      93|\n",
      "|   Light rain|      87|\n",
      "|        Clear|      87|\n",
      "|Partly cloudy|      94|\n",
      "|Partly cloudy|      54|\n",
      "|        Sunny|      21|\n",
      "|     Overcast|      44|\n",
      "|        Sunny|      65|\n",
      "|   Light rain|      82|\n",
      "+-------------+--------+\n",
      "only showing top 20 rows\n",
      "\n"
     ]
    }
   ],
   "source": [
    "weather_df.select('condition','humidity').show()"
   ]
  },
  {
   "cell_type": "code",
   "execution_count": 35,
   "metadata": {},
   "outputs": [],
   "source": [
    "weather_df = weather_df.withColumnRenamed('temp_f','temperature')"
   ]
  },
  {
   "cell_type": "code",
   "execution_count": 36,
   "metadata": {},
   "outputs": [],
   "source": [
    "weather_df = weather_df.withColumn('temp_c',round((col('temperature')-32) * (5/9),2))"
   ]
  },
  {
   "cell_type": "code",
   "execution_count": null,
   "metadata": {},
   "outputs": [
    {
     "name": "stdout",
     "output_type": "stream",
     "text": [
      "+-------------+--------+------------+-----------+------+\n",
      "|    condition|humidity|        name|temperature|temp_c|\n",
      "+-------------+--------+------------+-----------+------+\n",
      "|     Overcast|      41|    New York|       53.1| 11.72|\n",
      "|Partly cloudy|      68| Los Angeles|       61.2| 16.22|\n",
      "|     Overcast|      67|     Chicago|       42.1|  5.61|\n",
      "|     Overcast|      64|     Houston|       64.4|  18.0|\n",
      "|Partly cloudy|      21|     Phoenix|       71.1| 21.72|\n",
      "|     Overcast|      61|Philadelphia|       52.0| 11.11|\n",
      "|        Clear|      47| San Antonio|       64.9| 18.28|\n",
      "|Partly cloudy|      60|   San Diego|       63.0| 17.22|\n",
      "|Partly cloudy|      69|      Dallas|       48.9|  9.39|\n",
      "|Partly cloudy|      80|    San Jose|       60.1| 15.61|\n",
      "|Partly cloudy|      81|      London|       43.3|  6.28|\n",
      "|     Overcast|      93|       Paris|       48.9|  9.39|\n",
      "|   Light rain|      87|      Berlin|       48.2|   9.0|\n",
      "|        Clear|      87|      Madrid|       41.7|  5.39|\n",
      "|Partly cloudy|      94|        Rome|       52.2| 11.22|\n",
      "|Partly cloudy|      54|       Tokyo|       53.6|  12.0|\n",
      "|        Sunny|      21|     Beijing|       34.5|  1.39|\n",
      "|     Overcast|      44|      Mumbai|       75.4| 24.11|\n",
      "|        Sunny|      65|      Sydney|       78.1| 25.61|\n",
      "|   Light rain|      82|   Cape Town|       57.9| 14.39|\n",
      "+-------------+--------+------------+-----------+------+\n",
      "only showing top 20 rows\n",
      "\n"
     ]
    }
   ],
   "source": [
    "weather_df.show()"
   ]
  },
  {
   "cell_type": "code",
   "execution_count": 37,
   "metadata": {},
   "outputs": [],
   "source": [
    "def get_city_attr2(cities,unit ='F'):\n",
    "    url = \"http://api.weatherapi.com/v1/current.json\"\n",
    "    api_key = API_KEY\n",
    "    measure_metrics = ['name','gust_mph','pressure_mb']\n",
    "    spark_values_store = []\n",
    "    for city in cities:\n",
    "        params = {\n",
    "            'key': api_key,\n",
    "            'q': city\n",
    "        }\n",
    "        response = requests.get(url,params=params)\n",
    "        data = response.json()\n",
    "        data_store = {}\n",
    "        for metric in measure_metrics:\n",
    "            if metric == 'name':\n",
    "                data_store[metric] = data['location'][metric]\n",
    "                continue\n",
    "            data_store[metric] = data['current'][metric]\n",
    "        if unit == 'C':\n",
    "            data_store['temp_c'] = (data_store['temp_f'] - 32) * (5/9)\n",
    "            del data_store['temp_f']\n",
    "        spark_values_store.append(data_store)\n",
    "    return spark_values_store\n"
   ]
  },
  {
   "cell_type": "code",
   "execution_count": 40,
   "metadata": {},
   "outputs": [],
   "source": [
    "weather_df2 = get_city_attr2(cities)"
   ]
  },
  {
   "cell_type": "code",
   "execution_count": 41,
   "metadata": {},
   "outputs": [],
   "source": [
    "weather_spark_df2 = spark.createDataFrame(weather_df2)"
   ]
  },
  {
   "cell_type": "code",
   "execution_count": null,
   "metadata": {},
   "outputs": [
    {
     "name": "stdout",
     "output_type": "stream",
     "text": [
      "+--------+------------+-----------+\n",
      "|gust_mph|        name|pressure_mb|\n",
      "+--------+------------+-----------+\n",
      "|    17.7|    New York|     1019.0|\n",
      "|     6.7| Los Angeles|     1020.0|\n",
      "|    13.0|     Chicago|     1024.0|\n",
      "|     7.2|     Houston|     1025.0|\n",
      "|     5.6|     Phoenix|     1020.0|\n",
      "|    13.4|Philadelphia|     1021.0|\n",
      "|     5.7| San Antonio|     1025.0|\n",
      "|     6.7|   San Diego|     1020.0|\n",
      "|     6.6|      Dallas|     1027.0|\n",
      "|     2.3|    San Jose|     1021.0|\n",
      "|    15.5|      London|     1011.0|\n",
      "|    13.4|       Paris|     1019.0|\n",
      "|    13.2|      Berlin|     1023.0|\n",
      "|     4.7|      Madrid|     1025.0|\n",
      "|     9.4|        Rome|     1019.0|\n",
      "|    12.4|       Tokyo|     1016.0|\n",
      "|    17.6|     Beijing|     1018.0|\n",
      "|    16.5|      Mumbai|     1008.0|\n",
      "|    11.3|      Sydney|     1007.0|\n",
      "|    21.5|   Cape Town|     1016.0|\n",
      "+--------+------------+-----------+\n",
      "only showing top 20 rows\n",
      "\n"
     ]
    }
   ],
   "source": [
    "weather_spark_df2.show()"
   ]
  },
  {
   "cell_type": "code",
   "execution_count": 42,
   "metadata": {},
   "outputs": [],
   "source": [
    "weather_spark_df3 = weather_df.join(weather_spark_df2, weather_df['name'] == weather_spark_df2['name'], 'inner').select(weather_df.name,weather_df.condition,weather_df.humidity,weather_df.temperature\n",
    "                                                                                                                        ,weather_df.temp_c,weather_spark_df2.gust_mph,weather_spark_df2.pressure_mb)"
   ]
  },
  {
   "cell_type": "code",
   "execution_count": 121,
   "metadata": {},
   "outputs": [
    {
     "name": "stdout",
     "output_type": "stream",
     "text": [
      "+------------+-------------+--------+-----------+------+--------+-----------+\n",
      "|        name|    condition|humidity|temperature|temp_c|gust_mph|pressure_mb|\n",
      "+------------+-------------+--------+-----------+------+--------+-----------+\n",
      "|     Chicago|     Overcast|      67|       42.1|  5.61|    13.0|     1024.0|\n",
      "|    New York|     Overcast|      41|       53.1| 11.72|    17.7|     1019.0|\n",
      "| Los Angeles|Partly cloudy|      68|       61.2| 16.22|     6.7|     1020.0|\n",
      "|     Houston|     Overcast|      64|       64.4|  18.0|     7.2|     1025.0|\n",
      "|   San Diego|Partly cloudy|      60|       63.0| 17.22|     6.7|     1020.0|\n",
      "|     Phoenix|Partly cloudy|      21|       71.1| 21.72|     5.6|     1020.0|\n",
      "|Philadelphia|     Overcast|      61|       52.0| 11.11|    13.4|     1021.0|\n",
      "| San Antonio|        Clear|      47|       64.9| 18.28|     5.7|     1025.0|\n",
      "|      London|Partly cloudy|      81|       43.3|  6.28|    15.5|     1011.0|\n",
      "|      Dallas|Partly cloudy|      69|       48.9|  9.39|     6.6|     1027.0|\n",
      "|    San Jose|Partly cloudy|      80|       60.1| 15.61|     2.3|     1021.0|\n",
      "|       Paris|     Overcast|      93|       48.9|  9.39|    13.4|     1019.0|\n",
      "|      Berlin|   Light rain|      87|       48.2|   9.0|    13.2|     1023.0|\n",
      "|      Madrid|        Clear|      87|       41.7|  5.39|     4.7|     1025.0|\n",
      "|       Tokyo|Partly cloudy|      54|       53.6|  12.0|    12.4|     1016.0|\n",
      "|        Rome|Partly cloudy|      94|       52.2| 11.22|     9.4|     1019.0|\n",
      "|      Sydney|        Sunny|      65|       78.1| 25.61|    11.3|     1007.0|\n",
      "|   Cape Town|   Light rain|      82|       57.9| 14.39|    21.5|     1016.0|\n",
      "|     Beijing|        Sunny|      21|       34.5|  1.39|    17.6|     1018.0|\n",
      "|      Mumbai|     Overcast|      44|       75.4| 24.11|    16.5|     1008.0|\n",
      "+------------+-------------+--------+-----------+------+--------+-----------+\n",
      "only showing top 20 rows\n",
      "\n"
     ]
    }
   ],
   "source": [
    "weather_spark_df3.show()"
   ]
  },
  {
   "cell_type": "code",
   "execution_count": 43,
   "metadata": {},
   "outputs": [
    {
     "name": "stdout",
     "output_type": "stream",
     "text": [
      "+------------------+--------+\n",
      "|         condition|count(1)|\n",
      "+------------------+--------+\n",
      "|        Light rain|       3|\n",
      "|             Clear|      12|\n",
      "|     Partly Cloudy|       1|\n",
      "|     Partly cloudy|      21|\n",
      "|             Sunny|       7|\n",
      "|Patchy rain nearby|       1|\n",
      "|              Mist|       2|\n",
      "|          Overcast|       3|\n",
      "+------------------+--------+\n",
      "\n"
     ]
    }
   ],
   "source": [
    "weather_spark_df3.groupBy('condition').agg(count('*')).show()"
   ]
  },
  {
   "cell_type": "code",
   "execution_count": 44,
   "metadata": {},
   "outputs": [],
   "source": [
    "weather_spark_df3 = weather_spark_df3.drop('pressure_mb')"
   ]
  },
  {
   "cell_type": "code",
   "execution_count": 45,
   "metadata": {},
   "outputs": [],
   "source": [
    "weather_spark_df3 = weather_spark_df3.replace('Light rain','Drizzle','condition')"
   ]
  },
  {
   "cell_type": "code",
   "execution_count": 129,
   "metadata": {},
   "outputs": [
    {
     "name": "stdout",
     "output_type": "stream",
     "text": [
      "+----------+-------------+--------+-----------+------+--------+\n",
      "|      name|    condition|humidity|temperature|temp_c|gust_mph|\n",
      "+----------+-------------+--------+-----------+------+--------+\n",
      "|    Moscow|Partly cloudy|      80|       28.4|  -2.0|    16.1|\n",
      "|    Warsaw|        Clear|      86|       34.2|  1.22|     8.1|\n",
      "|   Beijing|        Sunny|      21|       34.5|  1.39|    17.6|\n",
      "|    Vienna|Partly cloudy|      93|       35.6|   2.0|    13.0|\n",
      "|    Prague|     Overcast|      93|       37.8|  3.22|     5.2|\n",
      "|    Madrid|        Clear|      87|       41.7|  5.39|     4.7|\n",
      "|   Chicago|     Overcast|      67|       42.1|  5.61|    13.0|\n",
      "|    London|Partly cloudy|      81|       43.3|  6.28|    15.5|\n",
      "|     Seoul|      Drizzle|      93|       43.5|  6.39|     5.3|\n",
      "|  Helsinki|      Drizzle|      93|       44.6|   7.0|    25.6|\n",
      "|   Toronto|      Drizzle|      87|       44.8|  7.11|    19.1|\n",
      "| Amsterdam|Partly cloudy|      87|       44.8|  7.11|    20.0|\n",
      "|      Oslo|      Drizzle|      93|       45.0|  7.22|    17.1|\n",
      "|  Brussels|        Clear|      87|       46.6|  8.11|    23.4|\n",
      "|  Istanbul|Partly cloudy|      66|       46.9|  8.28|    27.8|\n",
      "|    Berlin|      Drizzle|      87|       48.2|   9.0|    13.2|\n",
      "|Copenhagen|Partly cloudy|      87|       48.2|   9.0|    19.2|\n",
      "| Stockholm|     Overcast|      87|       48.7|  9.28|    20.4|\n",
      "|    Dallas|Partly cloudy|      69|       48.9|  9.39|     6.6|\n",
      "|     Paris|     Overcast|      93|       48.9|  9.39|    13.4|\n",
      "+----------+-------------+--------+-----------+------+--------+\n",
      "only showing top 20 rows\n",
      "\n"
     ]
    }
   ],
   "source": [
    "weather_spark_df3.orderBy('temperature').show()"
   ]
  },
  {
   "cell_type": "code",
   "execution_count": 138,
   "metadata": {},
   "outputs": [],
   "source": [
    "def temp_range(temp):\n",
    "    if temp < 50:\n",
    "        return 'Low'\n",
    "    elif (temp >= 50) & (temp < 70):\n",
    "        return 'Medium'\n",
    "    else:\n",
    "        return 'High'"
   ]
  },
  {
   "cell_type": "code",
   "execution_count": 141,
   "metadata": {},
   "outputs": [],
   "source": [
    "temp_range_udf = udf(temp_range,StringType())"
   ]
  },
  {
   "cell_type": "code",
   "execution_count": 142,
   "metadata": {},
   "outputs": [
    {
     "name": "stdout",
     "output_type": "stream",
     "text": [
      "+------------+-------------+--------+-----------+------+--------+----------+\n",
      "|        name|    condition|humidity|temperature|temp_c|gust_mph|temp_range|\n",
      "+------------+-------------+--------+-----------+------+--------+----------+\n",
      "|     Chicago|     Overcast|      67|       42.1|  5.61|    13.0|       Low|\n",
      "|    New York|     Overcast|      41|       53.1| 11.72|    17.7|    Medium|\n",
      "| Los Angeles|Partly cloudy|      68|       61.2| 16.22|     6.7|    Medium|\n",
      "|     Houston|     Overcast|      64|       64.4|  18.0|     7.2|    Medium|\n",
      "|   San Diego|Partly cloudy|      60|       63.0| 17.22|     6.7|    Medium|\n",
      "|     Phoenix|Partly cloudy|      21|       71.1| 21.72|     5.6|      High|\n",
      "|Philadelphia|     Overcast|      61|       52.0| 11.11|    13.4|    Medium|\n",
      "| San Antonio|        Clear|      47|       64.9| 18.28|     5.7|    Medium|\n",
      "|      London|Partly cloudy|      81|       43.3|  6.28|    15.5|       Low|\n",
      "|      Dallas|Partly cloudy|      69|       48.9|  9.39|     6.6|       Low|\n",
      "|    San Jose|Partly cloudy|      80|       60.1| 15.61|     2.3|    Medium|\n",
      "|       Paris|     Overcast|      93|       48.9|  9.39|    13.4|       Low|\n",
      "|      Berlin|      Drizzle|      87|       48.2|   9.0|    13.2|       Low|\n",
      "|      Madrid|        Clear|      87|       41.7|  5.39|     4.7|       Low|\n",
      "|       Tokyo|Partly cloudy|      54|       53.6|  12.0|    12.4|    Medium|\n",
      "|        Rome|Partly cloudy|      94|       52.2| 11.22|     9.4|    Medium|\n",
      "|      Sydney|        Sunny|      65|       78.1| 25.61|    11.3|      High|\n",
      "|   Cape Town|      Drizzle|      82|       57.9| 14.39|    21.5|    Medium|\n",
      "|     Beijing|        Sunny|      21|       34.5|  1.39|    17.6|       Low|\n",
      "|      Mumbai|     Overcast|      44|       75.4| 24.11|    16.5|      High|\n",
      "+------------+-------------+--------+-----------+------+--------+----------+\n",
      "only showing top 20 rows\n",
      "\n"
     ]
    }
   ],
   "source": [
    "weather_spark_df3.withColumn('temp_range',temp_range_udf(col('temperature'))).show()"
   ]
  },
  {
   "cell_type": "code",
   "execution_count": 50,
   "metadata": {},
   "outputs": [
    {
     "name": "stdout",
     "output_type": "stream",
     "text": [
      "+------------+-------------+--------+-----------+------+--------+----------+\n",
      "|        name|    condition|humidity|temperature|temp_c|gust_mph|temp_range|\n",
      "+------------+-------------+--------+-----------+------+--------+----------+\n",
      "| Los Angeles|        Sunny|      46|       61.0| 16.11|     6.7|    Medium|\n",
      "|     Chicago|Partly cloudy|      50|       23.4| -4.78|    12.1|       Low|\n",
      "|     Houston|        Sunny|      37|       64.8| 18.22|     6.7|    Medium|\n",
      "|    New York|        Sunny|      39|       33.1|  0.61|    17.8|       Low|\n",
      "|     Phoenix|Partly cloudy|      19|       64.0| 17.78|     3.6|    Medium|\n",
      "| San Antonio|Partly cloudy|      60|       67.3| 19.61|     5.7|    Medium|\n",
      "|Philadelphia|Partly cloudy|      44|       37.0|  2.78|    12.8|       Low|\n",
      "|   San Diego|Partly cloudy|      37|       66.9| 19.39|     6.7|    Medium|\n",
      "|      Dallas|        Sunny|      43|       55.0| 12.78|     6.9|    Medium|\n",
      "|      London|Partly cloudy|      94|       54.3| 12.39|    16.7|    Medium|\n",
      "|       Paris|      Drizzle|      94|       50.7| 10.39|    12.3|    Medium|\n",
      "|    San Jose|Partly cloudy|      61|       54.0| 12.22|     3.3|    Medium|\n",
      "|      Madrid|        Clear|      72|       59.5| 15.28|     7.0|    Medium|\n",
      "|      Berlin|        Clear|      86|       34.0|  1.11|    13.6|       Low|\n",
      "|       Tokyo|        Clear|      71|       50.0|  10.0|    12.7|    Medium|\n",
      "|        Rome|        Clear|      62|       55.4|  13.0|     9.2|    Medium|\n",
      "|     Beijing|        Clear|      28|       39.7|  4.28|    18.5|       Low|\n",
      "|      Mumbai|     Overcast|      54|       81.3| 27.39|    10.2|      High|\n",
      "|      Sydney|        Clear|      83|       68.4| 20.22|    12.7|    Medium|\n",
      "|   Cape Town|Partly cloudy|      73|       66.7| 19.28|    22.3|    Medium|\n",
      "+------------+-------------+--------+-----------+------+--------+----------+\n",
      "only showing top 20 rows\n",
      "\n"
     ]
    }
   ],
   "source": [
    "weather_spark_df3.withColumn('temp_range',\n",
    "                             when(col('temperature') < 50,'Low')\n",
    "                             .when((col('temperature') >= 50) & (col('temperature') < 70),'Medium')\n",
    "                             .otherwise('High')).show()"
   ]
  },
  {
   "cell_type": "code",
   "execution_count": 52,
   "metadata": {},
   "outputs": [],
   "source": [
    "weather_spark_df3 = weather_spark_df3.withColumn('condition',lower(weather_spark_df3.condition))"
   ]
  },
  {
   "cell_type": "code",
   "execution_count": 53,
   "metadata": {},
   "outputs": [
    {
     "name": "stdout",
     "output_type": "stream",
     "text": [
      "+------------+-------------+--------+-----------+------+--------+\n",
      "|        name|    condition|humidity|temperature|temp_c|gust_mph|\n",
      "+------------+-------------+--------+-----------+------+--------+\n",
      "| Los Angeles|        sunny|      46|       61.0| 16.11|     6.7|\n",
      "|     Chicago|partly cloudy|      50|       23.4| -4.78|    12.1|\n",
      "|     Houston|        sunny|      37|       64.8| 18.22|     6.7|\n",
      "|    New York|        sunny|      39|       33.1|  0.61|    17.8|\n",
      "|     Phoenix|partly cloudy|      19|       64.0| 17.78|     3.6|\n",
      "| San Antonio|partly cloudy|      60|       67.3| 19.61|     5.7|\n",
      "|Philadelphia|partly cloudy|      44|       37.0|  2.78|    12.8|\n",
      "|   San Diego|partly cloudy|      37|       66.9| 19.39|     6.7|\n",
      "|      Dallas|        sunny|      43|       55.0| 12.78|     6.9|\n",
      "|      London|partly cloudy|      94|       54.3| 12.39|    16.7|\n",
      "|       Paris|      drizzle|      94|       50.7| 10.39|    12.3|\n",
      "|    San Jose|partly cloudy|      61|       54.0| 12.22|     3.3|\n",
      "|      Madrid|        clear|      72|       59.5| 15.28|     7.0|\n",
      "|      Berlin|        clear|      86|       34.0|  1.11|    13.6|\n",
      "|       Tokyo|        clear|      71|       50.0|  10.0|    12.7|\n",
      "|        Rome|        clear|      62|       55.4|  13.0|     9.2|\n",
      "|     Beijing|        clear|      28|       39.7|  4.28|    18.5|\n",
      "|      Mumbai|     overcast|      54|       81.3| 27.39|    10.2|\n",
      "|      Sydney|        clear|      83|       68.4| 20.22|    12.7|\n",
      "|   Cape Town|partly cloudy|      73|       66.7| 19.28|    22.3|\n",
      "+------------+-------------+--------+-----------+------+--------+\n",
      "only showing top 20 rows\n",
      "\n"
     ]
    }
   ],
   "source": [
    "weather_spark_df3.show()"
   ]
  },
  {
   "cell_type": "code",
   "execution_count": 54,
   "metadata": {},
   "outputs": [],
   "source": [
    "window_spec = Window.partitionBy('condition').orderBy('humidity')\n",
    "condition_df = weather_spark_df3.withColumn('rank',rank().over(window_spec))"
   ]
  },
  {
   "cell_type": "code",
   "execution_count": 55,
   "metadata": {},
   "outputs": [
    {
     "name": "stdout",
     "output_type": "stream",
     "text": [
      "+------------+---------+--------+-----------+------+--------+----+\n",
      "|        name|condition|humidity|temperature|temp_c|gust_mph|rank|\n",
      "+------------+---------+--------+-----------+------+--------+----+\n",
      "|Johannesburg|    clear|      25|       75.6| 24.22|    11.9|   1|\n",
      "|     Beijing|    clear|      28|       39.7|  4.28|    18.5|   2|\n",
      "|        Rome|    clear|      62|       55.4|  13.0|     9.2|   3|\n",
      "|     Bangkok|    clear|      65|       79.0| 26.11|     5.4|   4|\n",
      "|       Tokyo|    clear|      71|       50.0|  10.0|    12.7|   5|\n",
      "|      Madrid|    clear|      72|       59.5| 15.28|     7.0|   6|\n",
      "|      Vienna|    clear|      75|       43.3|  6.28|    13.0|   7|\n",
      "|      Sydney|    clear|      83|       68.4| 20.22|    12.7|   8|\n",
      "|      Berlin|    clear|      86|       34.0|  1.11|    13.6|   9|\n",
      "|      Zurich|    clear|      86|       33.8|   1.0|     5.6|   9|\n",
      "|  Copenhagen|    clear|      87|       41.5|  5.28|    21.1|  11|\n",
      "|   Melbourne|    clear|      88|       59.2| 15.11|     6.3|  12|\n",
      "|   Amsterdam|  drizzle|      76|       45.0|  7.22|    21.0|   1|\n",
      "|       Paris|  drizzle|      94|       50.7| 10.39|    12.3|   2|\n",
      "|    Helsinki|  drizzle|     100|       43.2|  6.22|    25.8|   3|\n",
      "|      Warsaw|     mist|      93|       37.6|  3.11|     8.8|   1|\n",
      "|       Seoul|     mist|     100|       39.4|  4.11|     6.0|   2|\n",
      "|      Mumbai| overcast|      54|       81.3| 27.39|    10.2|   1|\n",
      "|      Moscow| overcast|      86|       34.5|  1.39|    14.5|   2|\n",
      "|      Prague| overcast|      93|       32.0|   0.0|     5.6|   3|\n",
      "+------------+---------+--------+-----------+------+--------+----+\n",
      "only showing top 20 rows\n",
      "\n"
     ]
    }
   ],
   "source": [
    "condition_df.show()"
   ]
  },
  {
   "cell_type": "code",
   "execution_count": 56,
   "metadata": {},
   "outputs": [],
   "source": [
    "pivoted_df = weather_spark_df3.groupBy(\"name\").pivot(\"condition\").avg(\"temperature\")"
   ]
  },
  {
   "cell_type": "code",
   "execution_count": 57,
   "metadata": {},
   "outputs": [
    {
     "name": "stdout",
     "output_type": "stream",
     "text": [
      "+------------+-----+-------+----+--------+-------------+------------------+-----+\n",
      "|        name|clear|drizzle|mist|overcast|partly cloudy|patchy rain nearby|sunny|\n",
      "+------------+-----+-------+----+--------+-------------+------------------+-----+\n",
      "| Los Angeles| NULL|   NULL|NULL|    NULL|         NULL|              NULL| 61.0|\n",
      "|     Chicago| NULL|   NULL|NULL|    NULL|         23.4|              NULL| NULL|\n",
      "|     Houston| NULL|   NULL|NULL|    NULL|         NULL|              NULL| 64.8|\n",
      "|    New York| NULL|   NULL|NULL|    NULL|         NULL|              NULL| 33.1|\n",
      "|     Phoenix| NULL|   NULL|NULL|    NULL|         64.0|              NULL| NULL|\n",
      "| San Antonio| NULL|   NULL|NULL|    NULL|         67.3|              NULL| NULL|\n",
      "|Philadelphia| NULL|   NULL|NULL|    NULL|         37.0|              NULL| NULL|\n",
      "|   San Diego| NULL|   NULL|NULL|    NULL|         66.9|              NULL| NULL|\n",
      "|      Dallas| NULL|   NULL|NULL|    NULL|         NULL|              NULL| 55.0|\n",
      "|      London| NULL|   NULL|NULL|    NULL|         54.3|              NULL| NULL|\n",
      "|       Paris| NULL|   50.7|NULL|    NULL|         NULL|              NULL| NULL|\n",
      "|    San Jose| NULL|   NULL|NULL|    NULL|         54.0|              NULL| NULL|\n",
      "|      Madrid| 59.5|   NULL|NULL|    NULL|         NULL|              NULL| NULL|\n",
      "|      Berlin| 34.0|   NULL|NULL|    NULL|         NULL|              NULL| NULL|\n",
      "|       Tokyo| 50.0|   NULL|NULL|    NULL|         NULL|              NULL| NULL|\n",
      "|        Rome| 55.4|   NULL|NULL|    NULL|         NULL|              NULL| NULL|\n",
      "|     Beijing| 39.7|   NULL|NULL|    NULL|         NULL|              NULL| NULL|\n",
      "|      Mumbai| NULL|   NULL|NULL|    81.3|         NULL|              NULL| NULL|\n",
      "|      Sydney| 68.4|   NULL|NULL|    NULL|         NULL|              NULL| NULL|\n",
      "|   Cape Town| NULL|   NULL|NULL|    NULL|         66.7|              NULL| NULL|\n",
      "+------------+-----+-------+----+--------+-------------+------------------+-----+\n",
      "only showing top 20 rows\n",
      "\n"
     ]
    }
   ],
   "source": [
    "pivoted_df.show()"
   ]
  },
  {
   "cell_type": "code",
   "execution_count": 63,
   "metadata": {},
   "outputs": [],
   "source": [
    "melted_df = pivoted_df.withColumn('temperature',\n",
    "                                  F.explode(\n",
    "                                      F.array(\n",
    "                                          F.struct(F.lit('clear').alias('condition'),F.col('clear').alias('temp')),\n",
    "                                          F.struct(F.lit('drizzle').alias('condition'),F.col('drizzle').alias('temp')),\n",
    "                                          F.struct(F.lit('mist').alias('condition'),F.col('mist').alias('temp')),\n",
    "                                          F.struct(F.lit('overcast').alias('condition'),F.col('overcast').alias('temp')),\n",
    "                                          F.struct(F.lit('partly cloudy').alias('condition'),F.col('partly cloudy').alias('temp')),\n",
    "                                          F.struct(F.lit('patchy rain nearby').alias('condition'),F.col('patchy rain nearby').alias('temp')),\n",
    "                                          F.struct(F.lit('sunny').alias('condition'),F.col('sunny').alias('temp')),\n",
    "                                      )\n",
    "                                  )).select('name','temperature.condition','temperature.temp')"
   ]
  },
  {
   "cell_type": "code",
   "execution_count": 64,
   "metadata": {},
   "outputs": [
    {
     "name": "stdout",
     "output_type": "stream",
     "text": [
      "+-----------+------------------+----+\n",
      "|       name|         condition|temp|\n",
      "+-----------+------------------+----+\n",
      "|Los Angeles|             clear|NULL|\n",
      "|Los Angeles|           drizzle|NULL|\n",
      "|Los Angeles|              mist|NULL|\n",
      "|Los Angeles|          overcast|NULL|\n",
      "|Los Angeles|     partly cloudy|NULL|\n",
      "|Los Angeles|patchy rain nearby|NULL|\n",
      "|Los Angeles|             sunny|61.0|\n",
      "|    Chicago|             clear|NULL|\n",
      "|    Chicago|           drizzle|NULL|\n",
      "|    Chicago|              mist|NULL|\n",
      "|    Chicago|          overcast|NULL|\n",
      "|    Chicago|     partly cloudy|23.4|\n",
      "|    Chicago|patchy rain nearby|NULL|\n",
      "|    Chicago|             sunny|NULL|\n",
      "|    Houston|             clear|NULL|\n",
      "|    Houston|           drizzle|NULL|\n",
      "|    Houston|              mist|NULL|\n",
      "|    Houston|          overcast|NULL|\n",
      "|    Houston|     partly cloudy|NULL|\n",
      "|    Houston|patchy rain nearby|NULL|\n",
      "+-----------+------------------+----+\n",
      "only showing top 20 rows\n",
      "\n"
     ]
    }
   ],
   "source": [
    "melted_df.show()"
   ]
  },
  {
   "cell_type": "code",
   "execution_count": 65,
   "metadata": {},
   "outputs": [],
   "source": [
    "melted_df_drop_null = melted_df.dropna()"
   ]
  },
  {
   "cell_type": "code",
   "execution_count": 66,
   "metadata": {},
   "outputs": [
    {
     "name": "stdout",
     "output_type": "stream",
     "text": [
      "+------------+-------------+----+\n",
      "|        name|    condition|temp|\n",
      "+------------+-------------+----+\n",
      "| Los Angeles|        sunny|61.0|\n",
      "|     Chicago|partly cloudy|23.4|\n",
      "|     Houston|        sunny|64.8|\n",
      "|    New York|        sunny|33.1|\n",
      "|     Phoenix|partly cloudy|64.0|\n",
      "| San Antonio|partly cloudy|67.3|\n",
      "|Philadelphia|partly cloudy|37.0|\n",
      "|   San Diego|partly cloudy|66.9|\n",
      "|      Dallas|        sunny|55.0|\n",
      "|      London|partly cloudy|54.3|\n",
      "|       Paris|      drizzle|50.7|\n",
      "|    San Jose|partly cloudy|54.0|\n",
      "|      Madrid|        clear|59.5|\n",
      "|      Berlin|        clear|34.0|\n",
      "|       Tokyo|        clear|50.0|\n",
      "|        Rome|        clear|55.4|\n",
      "|     Beijing|        clear|39.7|\n",
      "|      Mumbai|     overcast|81.3|\n",
      "|      Sydney|        clear|68.4|\n",
      "|   Cape Town|partly cloudy|66.7|\n",
      "+------------+-------------+----+\n",
      "only showing top 20 rows\n",
      "\n"
     ]
    }
   ],
   "source": [
    "melted_df_drop_null.show()"
   ]
  },
  {
   "cell_type": "code",
   "execution_count": 67,
   "metadata": {},
   "outputs": [],
   "source": [
    "melted_df_fill_null = melted_df.fillna({'temp': 0.0})"
   ]
  },
  {
   "cell_type": "code",
   "execution_count": 68,
   "metadata": {},
   "outputs": [
    {
     "name": "stdout",
     "output_type": "stream",
     "text": [
      "+-----------+------------------+----+\n",
      "|       name|         condition|temp|\n",
      "+-----------+------------------+----+\n",
      "|Los Angeles|             clear| 0.0|\n",
      "|Los Angeles|           drizzle| 0.0|\n",
      "|Los Angeles|              mist| 0.0|\n",
      "|Los Angeles|          overcast| 0.0|\n",
      "|Los Angeles|     partly cloudy| 0.0|\n",
      "|Los Angeles|patchy rain nearby| 0.0|\n",
      "|Los Angeles|             sunny|61.0|\n",
      "|    Chicago|             clear| 0.0|\n",
      "|    Chicago|           drizzle| 0.0|\n",
      "|    Chicago|              mist| 0.0|\n",
      "|    Chicago|          overcast| 0.0|\n",
      "|    Chicago|     partly cloudy|23.4|\n",
      "|    Chicago|patchy rain nearby| 0.0|\n",
      "|    Chicago|             sunny| 0.0|\n",
      "|    Houston|             clear| 0.0|\n",
      "|    Houston|           drizzle| 0.0|\n",
      "|    Houston|              mist| 0.0|\n",
      "|    Houston|          overcast| 0.0|\n",
      "|    Houston|     partly cloudy| 0.0|\n",
      "|    Houston|patchy rain nearby| 0.0|\n",
      "+-----------+------------------+----+\n",
      "only showing top 20 rows\n",
      "\n"
     ]
    }
   ],
   "source": [
    "melted_df_fill_null.show()"
   ]
  },
  {
   "cell_type": "code",
   "execution_count": null,
   "metadata": {},
   "outputs": [],
   "source": []
  }
 ],
 "metadata": {
  "kernelspec": {
   "display_name": "pyspark_env",
   "language": "python",
   "name": "python3"
  },
  "language_info": {
   "codemirror_mode": {
    "name": "ipython",
    "version": 3
   },
   "file_extension": ".py",
   "mimetype": "text/x-python",
   "name": "python",
   "nbconvert_exporter": "python",
   "pygments_lexer": "ipython3",
   "version": "3.10.15"
  }
 },
 "nbformat": 4,
 "nbformat_minor": 2
}
